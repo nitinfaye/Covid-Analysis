{
  "nbformat": 4,
  "nbformat_minor": 0,
  "metadata": {
    "colab": {
      "name": " 5_algorithms_analysis of india.ipynb",
      "provenance": [],
      "collapsed_sections": []
    },
    "kernelspec": {
      "name": "python3",
      "display_name": "Python 3"
    }
  },
  "cells": [
    {
      "cell_type": "markdown",
      "metadata": {
        "id": "K9ThAa9KjhKq"
      },
      "source": [
        "covid 19 data use for 5 alogorithm\n",
        "Comparing Linear Regression, Random Forest Regression,\n",
        " XGBoost, LSTMs, and ARIMA Time Series Forecasting\n"
      ]
    },
    {
      "cell_type": "code",
      "metadata": {
        "id": "W42-70EEi0Pm",
        "outputId": "542f447f-6d85-4b4d-8d3c-8e7bc28c3f61",
        "colab": {
          "base_uri": "https://localhost:8080/",
          "height": 71
        }
      },
      "source": [
        "import pandas as pd\n",
        "import numpy as np\n",
        "import matplotlib.pyplot as plt\n",
        "import seaborn as sns\n",
        "import datetime\n",
        "from sklearn.metrics import mean_squared_error\n",
        "from math import sqrt\n",
        "from sklearn.preprocessing import MinMaxScaler\n",
        "from sklearn.linear_model import LinearRegression\n",
        "from sklearn.metrics import mean_squared_error, mean_absolute_error, r2_score\n",
        "from sklearn.ensemble import RandomForestRegressor\n",
        "from xgboost.sklearn import XGBRegressor\n",
        "\n",
        "import keras\n",
        "from keras.layers import Dense\n",
        "from keras.models import Sequential\n",
        "from keras.layers import LSTM\n",
        "from keras.utils import np_utils\n",
        "from keras.optimizers import Adam \n",
        "from keras.callbacks import EarlyStopping\n",
        "import statsmodels.api as sm\n",
        "import statsmodels.tsa.api as smt\n",
        "from sklearn.model_selection import KFold, cross_val_score, train_test_split\n",
        "\n",
        "import pickle\n"
      ],
      "execution_count": 1,
      "outputs": [
        {
          "output_type": "stream",
          "text": [
            "/usr/local/lib/python3.6/dist-packages/statsmodels/tools/_testing.py:19: FutureWarning: pandas.util.testing is deprecated. Use the functions in the public API at pandas.testing instead.\n",
            "  import pandas.util.testing as tm\n"
          ],
          "name": "stderr"
        }
      ]
    },
    {
      "cell_type": "code",
      "metadata": {
        "id": "CsuCy3bDjfMT"
      },
      "source": [
        "df = pd.read_csv('/content/covid_19_clean_complete.csv',parse_dates=['Date'])\n",
        "df.rename(columns={'ObservationDate':'Date', 'Country/Region':'Country'}, inplace=True)"
      ],
      "execution_count": 2,
      "outputs": []
    },
    {
      "cell_type": "code",
      "metadata": {
        "id": "LZ0KY2LQkO27",
        "outputId": "6e3f64be-7c75-4c87-9b24-6df7cee51f5f",
        "colab": {
          "base_uri": "https://localhost:8080/",
          "height": 204
        }
      },
      "source": [
        "df.head()"
      ],
      "execution_count": 3,
      "outputs": [
        {
          "output_type": "execute_result",
          "data": {
            "text/html": [
              "<div>\n",
              "<style scoped>\n",
              "    .dataframe tbody tr th:only-of-type {\n",
              "        vertical-align: middle;\n",
              "    }\n",
              "\n",
              "    .dataframe tbody tr th {\n",
              "        vertical-align: top;\n",
              "    }\n",
              "\n",
              "    .dataframe thead th {\n",
              "        text-align: right;\n",
              "    }\n",
              "</style>\n",
              "<table border=\"1\" class=\"dataframe\">\n",
              "  <thead>\n",
              "    <tr style=\"text-align: right;\">\n",
              "      <th></th>\n",
              "      <th>Province/State</th>\n",
              "      <th>Country</th>\n",
              "      <th>Lat</th>\n",
              "      <th>Long</th>\n",
              "      <th>Date</th>\n",
              "      <th>Confirmed</th>\n",
              "      <th>Deaths</th>\n",
              "      <th>Recovered</th>\n",
              "    </tr>\n",
              "  </thead>\n",
              "  <tbody>\n",
              "    <tr>\n",
              "      <th>0</th>\n",
              "      <td>NaN</td>\n",
              "      <td>Thailand</td>\n",
              "      <td>15.0000</td>\n",
              "      <td>101.0000</td>\n",
              "      <td>2020-01-22</td>\n",
              "      <td>2.0</td>\n",
              "      <td>0.0</td>\n",
              "      <td>0.0</td>\n",
              "    </tr>\n",
              "    <tr>\n",
              "      <th>1</th>\n",
              "      <td>NaN</td>\n",
              "      <td>Japan</td>\n",
              "      <td>36.0000</td>\n",
              "      <td>138.0000</td>\n",
              "      <td>2020-01-22</td>\n",
              "      <td>2.0</td>\n",
              "      <td>0.0</td>\n",
              "      <td>0.0</td>\n",
              "    </tr>\n",
              "    <tr>\n",
              "      <th>2</th>\n",
              "      <td>NaN</td>\n",
              "      <td>Singapore</td>\n",
              "      <td>1.2833</td>\n",
              "      <td>103.8333</td>\n",
              "      <td>2020-01-22</td>\n",
              "      <td>0.0</td>\n",
              "      <td>0.0</td>\n",
              "      <td>0.0</td>\n",
              "    </tr>\n",
              "    <tr>\n",
              "      <th>3</th>\n",
              "      <td>NaN</td>\n",
              "      <td>Nepal</td>\n",
              "      <td>28.1667</td>\n",
              "      <td>84.2500</td>\n",
              "      <td>2020-01-22</td>\n",
              "      <td>0.0</td>\n",
              "      <td>0.0</td>\n",
              "      <td>0.0</td>\n",
              "    </tr>\n",
              "    <tr>\n",
              "      <th>4</th>\n",
              "      <td>NaN</td>\n",
              "      <td>Malaysia</td>\n",
              "      <td>2.5000</td>\n",
              "      <td>112.5000</td>\n",
              "      <td>2020-01-22</td>\n",
              "      <td>0.0</td>\n",
              "      <td>0.0</td>\n",
              "      <td>0.0</td>\n",
              "    </tr>\n",
              "  </tbody>\n",
              "</table>\n",
              "</div>"
            ],
            "text/plain": [
              "  Province/State    Country      Lat  ...  Confirmed Deaths  Recovered\n",
              "0            NaN   Thailand  15.0000  ...        2.0    0.0        0.0\n",
              "1            NaN      Japan  36.0000  ...        2.0    0.0        0.0\n",
              "2            NaN  Singapore   1.2833  ...        0.0    0.0        0.0\n",
              "3            NaN      Nepal  28.1667  ...        0.0    0.0        0.0\n",
              "4            NaN   Malaysia   2.5000  ...        0.0    0.0        0.0\n",
              "\n",
              "[5 rows x 8 columns]"
            ]
          },
          "metadata": {
            "tags": []
          },
          "execution_count": 3
        }
      ]
    },
    {
      "cell_type": "code",
      "metadata": {
        "id": "gjabz94rkpe3",
        "outputId": "206146fd-23e7-446a-fa1b-58a2477c7179",
        "colab": {
          "base_uri": "https://localhost:8080/",
          "height": 204
        }
      },
      "source": [
        "df_data = df.groupby([\"Date\", \"Country\", \"Province/State\"])[['Date', 'Province/State', 'Country', 'Confirmed', 'Deaths', 'Recovered']].sum().reset_index()\n",
        "df_data.head()"
      ],
      "execution_count": 4,
      "outputs": [
        {
          "output_type": "execute_result",
          "data": {
            "text/html": [
              "<div>\n",
              "<style scoped>\n",
              "    .dataframe tbody tr th:only-of-type {\n",
              "        vertical-align: middle;\n",
              "    }\n",
              "\n",
              "    .dataframe tbody tr th {\n",
              "        vertical-align: top;\n",
              "    }\n",
              "\n",
              "    .dataframe thead th {\n",
              "        text-align: right;\n",
              "    }\n",
              "</style>\n",
              "<table border=\"1\" class=\"dataframe\">\n",
              "  <thead>\n",
              "    <tr style=\"text-align: right;\">\n",
              "      <th></th>\n",
              "      <th>Date</th>\n",
              "      <th>Country</th>\n",
              "      <th>Province/State</th>\n",
              "      <th>Confirmed</th>\n",
              "      <th>Deaths</th>\n",
              "      <th>Recovered</th>\n",
              "    </tr>\n",
              "  </thead>\n",
              "  <tbody>\n",
              "    <tr>\n",
              "      <th>0</th>\n",
              "      <td>2020-01-22</td>\n",
              "      <td>Australia</td>\n",
              "      <td>Australian Capital Territory</td>\n",
              "      <td>0.0</td>\n",
              "      <td>0.0</td>\n",
              "      <td>0.0</td>\n",
              "    </tr>\n",
              "    <tr>\n",
              "      <th>1</th>\n",
              "      <td>2020-01-22</td>\n",
              "      <td>Australia</td>\n",
              "      <td>From Diamond Princess</td>\n",
              "      <td>0.0</td>\n",
              "      <td>0.0</td>\n",
              "      <td>0.0</td>\n",
              "    </tr>\n",
              "    <tr>\n",
              "      <th>2</th>\n",
              "      <td>2020-01-22</td>\n",
              "      <td>Australia</td>\n",
              "      <td>New South Wales</td>\n",
              "      <td>0.0</td>\n",
              "      <td>0.0</td>\n",
              "      <td>0.0</td>\n",
              "    </tr>\n",
              "    <tr>\n",
              "      <th>3</th>\n",
              "      <td>2020-01-22</td>\n",
              "      <td>Australia</td>\n",
              "      <td>Northern Territory</td>\n",
              "      <td>0.0</td>\n",
              "      <td>0.0</td>\n",
              "      <td>0.0</td>\n",
              "    </tr>\n",
              "    <tr>\n",
              "      <th>4</th>\n",
              "      <td>2020-01-22</td>\n",
              "      <td>Australia</td>\n",
              "      <td>Queensland</td>\n",
              "      <td>0.0</td>\n",
              "      <td>0.0</td>\n",
              "      <td>0.0</td>\n",
              "    </tr>\n",
              "  </tbody>\n",
              "</table>\n",
              "</div>"
            ],
            "text/plain": [
              "        Date    Country  ... Deaths  Recovered\n",
              "0 2020-01-22  Australia  ...    0.0        0.0\n",
              "1 2020-01-22  Australia  ...    0.0        0.0\n",
              "2 2020-01-22  Australia  ...    0.0        0.0\n",
              "3 2020-01-22  Australia  ...    0.0        0.0\n",
              "4 2020-01-22  Australia  ...    0.0        0.0\n",
              "\n",
              "[5 rows x 6 columns]"
            ]
          },
          "metadata": {
            "tags": []
          },
          "execution_count": 4
        }
      ]
    },
    {
      "cell_type": "markdown",
      "metadata": {
        "id": "e3c2eaeFOfuk"
      },
      "source": [
        "## Corona cases in Italy "
      ]
    },
    {
      "cell_type": "code",
      "metadata": {
        "id": "VsIEQkCwl4Lv",
        "outputId": "5af6eb38-5ee0-41ff-9f4c-ede61864db50",
        "colab": {
          "base_uri": "https://localhost:8080/",
          "height": 419
        }
      },
      "source": [
        "df.query('Country==\"Italy\"').groupby(\"Date\")[['Confirmed', 'Deaths', 'Recovered']].sum().reset_index()"
      ],
      "execution_count": 5,
      "outputs": [
        {
          "output_type": "execute_result",
          "data": {
            "text/html": [
              "<div>\n",
              "<style scoped>\n",
              "    .dataframe tbody tr th:only-of-type {\n",
              "        vertical-align: middle;\n",
              "    }\n",
              "\n",
              "    .dataframe tbody tr th {\n",
              "        vertical-align: top;\n",
              "    }\n",
              "\n",
              "    .dataframe thead th {\n",
              "        text-align: right;\n",
              "    }\n",
              "</style>\n",
              "<table border=\"1\" class=\"dataframe\">\n",
              "  <thead>\n",
              "    <tr style=\"text-align: right;\">\n",
              "      <th></th>\n",
              "      <th>Date</th>\n",
              "      <th>Confirmed</th>\n",
              "      <th>Deaths</th>\n",
              "      <th>Recovered</th>\n",
              "    </tr>\n",
              "  </thead>\n",
              "  <tbody>\n",
              "    <tr>\n",
              "      <th>0</th>\n",
              "      <td>2020-01-22</td>\n",
              "      <td>0.0</td>\n",
              "      <td>0.0</td>\n",
              "      <td>0.0</td>\n",
              "    </tr>\n",
              "    <tr>\n",
              "      <th>1</th>\n",
              "      <td>2020-01-23</td>\n",
              "      <td>0.0</td>\n",
              "      <td>0.0</td>\n",
              "      <td>0.0</td>\n",
              "    </tr>\n",
              "    <tr>\n",
              "      <th>2</th>\n",
              "      <td>2020-01-24</td>\n",
              "      <td>0.0</td>\n",
              "      <td>0.0</td>\n",
              "      <td>0.0</td>\n",
              "    </tr>\n",
              "    <tr>\n",
              "      <th>3</th>\n",
              "      <td>2020-01-25</td>\n",
              "      <td>0.0</td>\n",
              "      <td>0.0</td>\n",
              "      <td>0.0</td>\n",
              "    </tr>\n",
              "    <tr>\n",
              "      <th>4</th>\n",
              "      <td>2020-01-26</td>\n",
              "      <td>0.0</td>\n",
              "      <td>0.0</td>\n",
              "      <td>0.0</td>\n",
              "    </tr>\n",
              "    <tr>\n",
              "      <th>...</th>\n",
              "      <td>...</td>\n",
              "      <td>...</td>\n",
              "      <td>...</td>\n",
              "      <td>...</td>\n",
              "    </tr>\n",
              "    <tr>\n",
              "      <th>57</th>\n",
              "      <td>2020-03-19</td>\n",
              "      <td>41035.0</td>\n",
              "      <td>3405.0</td>\n",
              "      <td>4440.0</td>\n",
              "    </tr>\n",
              "    <tr>\n",
              "      <th>58</th>\n",
              "      <td>2020-03-20</td>\n",
              "      <td>47021.0</td>\n",
              "      <td>4032.0</td>\n",
              "      <td>4440.0</td>\n",
              "    </tr>\n",
              "    <tr>\n",
              "      <th>59</th>\n",
              "      <td>2020-03-21</td>\n",
              "      <td>53578.0</td>\n",
              "      <td>4825.0</td>\n",
              "      <td>6072.0</td>\n",
              "    </tr>\n",
              "    <tr>\n",
              "      <th>60</th>\n",
              "      <td>2020-03-22</td>\n",
              "      <td>59138.0</td>\n",
              "      <td>5476.0</td>\n",
              "      <td>7024.0</td>\n",
              "    </tr>\n",
              "    <tr>\n",
              "      <th>61</th>\n",
              "      <td>2020-03-23</td>\n",
              "      <td>59138.0</td>\n",
              "      <td>5476.0</td>\n",
              "      <td>7024.0</td>\n",
              "    </tr>\n",
              "  </tbody>\n",
              "</table>\n",
              "<p>62 rows × 4 columns</p>\n",
              "</div>"
            ],
            "text/plain": [
              "         Date  Confirmed  Deaths  Recovered\n",
              "0  2020-01-22        0.0     0.0        0.0\n",
              "1  2020-01-23        0.0     0.0        0.0\n",
              "2  2020-01-24        0.0     0.0        0.0\n",
              "3  2020-01-25        0.0     0.0        0.0\n",
              "4  2020-01-26        0.0     0.0        0.0\n",
              "..        ...        ...     ...        ...\n",
              "57 2020-03-19    41035.0  3405.0     4440.0\n",
              "58 2020-03-20    47021.0  4032.0     4440.0\n",
              "59 2020-03-21    53578.0  4825.0     6072.0\n",
              "60 2020-03-22    59138.0  5476.0     7024.0\n",
              "61 2020-03-23    59138.0  5476.0     7024.0\n",
              "\n",
              "[62 rows x 4 columns]"
            ]
          },
          "metadata": {
            "tags": []
          },
          "execution_count": 5
        }
      ]
    },
    {
      "cell_type": "code",
      "metadata": {
        "id": "WZwzEtDMmC2L",
        "outputId": "b88d8ba1-7226-4b88-c3be-b73451b54a30",
        "colab": {
          "base_uri": "https://localhost:8080/",
          "height": 235
        }
      },
      "source": [
        "df1=df.groupby('Date').sum()\n",
        "df1.head()"
      ],
      "execution_count": 6,
      "outputs": [
        {
          "output_type": "execute_result",
          "data": {
            "text/html": [
              "<div>\n",
              "<style scoped>\n",
              "    .dataframe tbody tr th:only-of-type {\n",
              "        vertical-align: middle;\n",
              "    }\n",
              "\n",
              "    .dataframe tbody tr th {\n",
              "        vertical-align: top;\n",
              "    }\n",
              "\n",
              "    .dataframe thead th {\n",
              "        text-align: right;\n",
              "    }\n",
              "</style>\n",
              "<table border=\"1\" class=\"dataframe\">\n",
              "  <thead>\n",
              "    <tr style=\"text-align: right;\">\n",
              "      <th></th>\n",
              "      <th>Lat</th>\n",
              "      <th>Long</th>\n",
              "      <th>Confirmed</th>\n",
              "      <th>Deaths</th>\n",
              "      <th>Recovered</th>\n",
              "    </tr>\n",
              "    <tr>\n",
              "      <th>Date</th>\n",
              "      <th></th>\n",
              "      <th></th>\n",
              "      <th></th>\n",
              "      <th></th>\n",
              "      <th></th>\n",
              "    </tr>\n",
              "  </thead>\n",
              "  <tbody>\n",
              "    <tr>\n",
              "      <th>2020-01-22</th>\n",
              "      <td>7777.4793</td>\n",
              "      <td>1639.7021</td>\n",
              "      <td>554.0</td>\n",
              "      <td>17.0</td>\n",
              "      <td>28.0</td>\n",
              "    </tr>\n",
              "    <tr>\n",
              "      <th>2020-01-23</th>\n",
              "      <td>7777.4793</td>\n",
              "      <td>1639.7021</td>\n",
              "      <td>652.0</td>\n",
              "      <td>18.0</td>\n",
              "      <td>30.0</td>\n",
              "    </tr>\n",
              "    <tr>\n",
              "      <th>2020-01-24</th>\n",
              "      <td>7777.4793</td>\n",
              "      <td>1639.7021</td>\n",
              "      <td>939.0</td>\n",
              "      <td>26.0</td>\n",
              "      <td>36.0</td>\n",
              "    </tr>\n",
              "    <tr>\n",
              "      <th>2020-01-25</th>\n",
              "      <td>7777.4793</td>\n",
              "      <td>1639.7021</td>\n",
              "      <td>1432.0</td>\n",
              "      <td>42.0</td>\n",
              "      <td>39.0</td>\n",
              "    </tr>\n",
              "    <tr>\n",
              "      <th>2020-01-26</th>\n",
              "      <td>7777.4793</td>\n",
              "      <td>1639.7021</td>\n",
              "      <td>2113.0</td>\n",
              "      <td>56.0</td>\n",
              "      <td>52.0</td>\n",
              "    </tr>\n",
              "  </tbody>\n",
              "</table>\n",
              "</div>"
            ],
            "text/plain": [
              "                  Lat       Long  Confirmed  Deaths  Recovered\n",
              "Date                                                          \n",
              "2020-01-22  7777.4793  1639.7021      554.0    17.0       28.0\n",
              "2020-01-23  7777.4793  1639.7021      652.0    18.0       30.0\n",
              "2020-01-24  7777.4793  1639.7021      939.0    26.0       36.0\n",
              "2020-01-25  7777.4793  1639.7021     1432.0    42.0       39.0\n",
              "2020-01-26  7777.4793  1639.7021     2113.0    56.0       52.0"
            ]
          },
          "metadata": {
            "tags": []
          },
          "execution_count": 6
        }
      ]
    },
    {
      "cell_type": "code",
      "metadata": {
        "id": "5gk9e5hBmN7e"
      },
      "source": [
        "confirmed = df.groupby('Date').sum()['Confirmed'].reset_index()\n",
        "deaths = df.groupby('Date').sum()['Deaths'].reset_index()\n",
        "recovered = df.groupby('Date').sum()['Recovered'].reset_index()"
      ],
      "execution_count": 7,
      "outputs": []
    },
    {
      "cell_type": "code",
      "metadata": {
        "id": "TQFXtLmlmgpT",
        "outputId": "057f32da-c7a7-480a-87a0-fcdaa4e0cbfd",
        "colab": {
          "base_uri": "https://localhost:8080/",
          "height": 204
        }
      },
      "source": [
        "confirmed.head()"
      ],
      "execution_count": 8,
      "outputs": [
        {
          "output_type": "execute_result",
          "data": {
            "text/html": [
              "<div>\n",
              "<style scoped>\n",
              "    .dataframe tbody tr th:only-of-type {\n",
              "        vertical-align: middle;\n",
              "    }\n",
              "\n",
              "    .dataframe tbody tr th {\n",
              "        vertical-align: top;\n",
              "    }\n",
              "\n",
              "    .dataframe thead th {\n",
              "        text-align: right;\n",
              "    }\n",
              "</style>\n",
              "<table border=\"1\" class=\"dataframe\">\n",
              "  <thead>\n",
              "    <tr style=\"text-align: right;\">\n",
              "      <th></th>\n",
              "      <th>Date</th>\n",
              "      <th>Confirmed</th>\n",
              "    </tr>\n",
              "  </thead>\n",
              "  <tbody>\n",
              "    <tr>\n",
              "      <th>0</th>\n",
              "      <td>2020-01-22</td>\n",
              "      <td>554.0</td>\n",
              "    </tr>\n",
              "    <tr>\n",
              "      <th>1</th>\n",
              "      <td>2020-01-23</td>\n",
              "      <td>652.0</td>\n",
              "    </tr>\n",
              "    <tr>\n",
              "      <th>2</th>\n",
              "      <td>2020-01-24</td>\n",
              "      <td>939.0</td>\n",
              "    </tr>\n",
              "    <tr>\n",
              "      <th>3</th>\n",
              "      <td>2020-01-25</td>\n",
              "      <td>1432.0</td>\n",
              "    </tr>\n",
              "    <tr>\n",
              "      <th>4</th>\n",
              "      <td>2020-01-26</td>\n",
              "      <td>2113.0</td>\n",
              "    </tr>\n",
              "  </tbody>\n",
              "</table>\n",
              "</div>"
            ],
            "text/plain": [
              "        Date  Confirmed\n",
              "0 2020-01-22      554.0\n",
              "1 2020-01-23      652.0\n",
              "2 2020-01-24      939.0\n",
              "3 2020-01-25     1432.0\n",
              "4 2020-01-26     2113.0"
            ]
          },
          "metadata": {
            "tags": []
          },
          "execution_count": 8
        }
      ]
    },
    {
      "cell_type": "code",
      "metadata": {
        "id": "71bwJYhWZnsH"
      },
      "source": [
        "def monthly_cases(data):\n",
        "    monthly_data = data.copy()\n",
        "    monthly_data.Date = monthly_data.Date.apply(lambda x: str(x)[:-3])\n",
        "    monthly_data = monthly_data.groupby('Date')['Confirmed'].sum().reset_index()\n",
        "    monthly_data.Date = pd.to_datetime(monthly_data.Date)\n",
        "    return monthly_data\n"
      ],
      "execution_count": 9,
      "outputs": []
    },
    {
      "cell_type": "code",
      "metadata": {
        "id": "oW14ApxiHAfp",
        "outputId": "4a0aaf52-323f-4b77-c6ab-103a117cdae8",
        "colab": {
          "base_uri": "https://localhost:8080/",
          "height": 419
        }
      },
      "source": [
        "monthly_df = monthly_cases(confirmed)\n",
        "monthly_df\n"
      ],
      "execution_count": 10,
      "outputs": [
        {
          "output_type": "execute_result",
          "data": {
            "text/html": [
              "<div>\n",
              "<style scoped>\n",
              "    .dataframe tbody tr th:only-of-type {\n",
              "        vertical-align: middle;\n",
              "    }\n",
              "\n",
              "    .dataframe tbody tr th {\n",
              "        vertical-align: top;\n",
              "    }\n",
              "\n",
              "    .dataframe thead th {\n",
              "        text-align: right;\n",
              "    }\n",
              "</style>\n",
              "<table border=\"1\" class=\"dataframe\">\n",
              "  <thead>\n",
              "    <tr style=\"text-align: right;\">\n",
              "      <th></th>\n",
              "      <th>Date</th>\n",
              "      <th>Confirmed</th>\n",
              "    </tr>\n",
              "  </thead>\n",
              "  <tbody>\n",
              "    <tr>\n",
              "      <th>0</th>\n",
              "      <td>2020-01-22</td>\n",
              "      <td>554.0</td>\n",
              "    </tr>\n",
              "    <tr>\n",
              "      <th>1</th>\n",
              "      <td>2020-01-23</td>\n",
              "      <td>652.0</td>\n",
              "    </tr>\n",
              "    <tr>\n",
              "      <th>2</th>\n",
              "      <td>2020-01-24</td>\n",
              "      <td>939.0</td>\n",
              "    </tr>\n",
              "    <tr>\n",
              "      <th>3</th>\n",
              "      <td>2020-01-25</td>\n",
              "      <td>1432.0</td>\n",
              "    </tr>\n",
              "    <tr>\n",
              "      <th>4</th>\n",
              "      <td>2020-01-26</td>\n",
              "      <td>2113.0</td>\n",
              "    </tr>\n",
              "    <tr>\n",
              "      <th>...</th>\n",
              "      <td>...</td>\n",
              "      <td>...</td>\n",
              "    </tr>\n",
              "    <tr>\n",
              "      <th>57</th>\n",
              "      <td>2020-03-19</td>\n",
              "      <td>242708.0</td>\n",
              "    </tr>\n",
              "    <tr>\n",
              "      <th>58</th>\n",
              "      <td>2020-03-20</td>\n",
              "      <td>272166.0</td>\n",
              "    </tr>\n",
              "    <tr>\n",
              "      <th>59</th>\n",
              "      <td>2020-03-21</td>\n",
              "      <td>304524.0</td>\n",
              "    </tr>\n",
              "    <tr>\n",
              "      <th>60</th>\n",
              "      <td>2020-03-22</td>\n",
              "      <td>335955.0</td>\n",
              "    </tr>\n",
              "    <tr>\n",
              "      <th>61</th>\n",
              "      <td>2020-03-23</td>\n",
              "      <td>336004.0</td>\n",
              "    </tr>\n",
              "  </tbody>\n",
              "</table>\n",
              "<p>62 rows × 2 columns</p>\n",
              "</div>"
            ],
            "text/plain": [
              "         Date  Confirmed\n",
              "0  2020-01-22      554.0\n",
              "1  2020-01-23      652.0\n",
              "2  2020-01-24      939.0\n",
              "3  2020-01-25     1432.0\n",
              "4  2020-01-26     2113.0\n",
              "..        ...        ...\n",
              "57 2020-03-19   242708.0\n",
              "58 2020-03-20   272166.0\n",
              "59 2020-03-21   304524.0\n",
              "60 2020-03-22   335955.0\n",
              "61 2020-03-23   336004.0\n",
              "\n",
              "[62 rows x 2 columns]"
            ]
          },
          "metadata": {
            "tags": []
          },
          "execution_count": 10
        }
      ]
    },
    {
      "cell_type": "code",
      "metadata": {
        "id": "84SJAFAXLsWH",
        "outputId": "567c557f-fbab-4ffc-d049-cb98e55b7ced",
        "colab": {
          "base_uri": "https://localhost:8080/",
          "height": 295
        }
      },
      "source": [
        "def confirmed_cases_per_day():\n",
        "    fig, ax = plt.subplots(figsize=(7,4))\n",
        "    plt.hist(monthly_df.Confirmed, color='mediumblue')\n",
        "    \n",
        "    ax.set(xlabel = \"confirmed Per day\",\n",
        "           ylabel = \"Cases\",\n",
        "           title = \"Distrobution of confirmred cases Per Day\")\n",
        "    \n",
        "confirmed_cases_per_day()"
      ],
      "execution_count": 11,
      "outputs": [
        {
          "output_type": "display_data",
          "data": {
            "image/png": "[encoded data removed]",
            "text/plain": [
              "<Figure size 504x288 with 1 Axes>"
            ]
          },
          "metadata": {
            "tags": [],
            "needs_background": "light"
          }
        }
      ]
    },
    {
      "cell_type": "code",
      "metadata": {
        "id": "TEnI9jAdNXF2",
        "outputId": "6a26fec8-a9e3-4a5d-904e-9949f9c08d50",
        "colab": {
          "base_uri": "https://localhost:8080/",
          "height": 34
        }
      },
      "source": [
        "# Average monthly confirmed cases\n",
        "\n",
        "# Overall\n",
        "avg_monthly_cases = monthly_df.Confirmed.mean()\n",
        "print(f\"Overall average monthly confirmed cases: ${avg_monthly_cases}\")\n"
      ],
      "execution_count": 12,
      "outputs": [
        {
          "output_type": "stream",
          "text": [
            "Overall average monthly confirmed cases: $89193.08064516129\n"
          ],
          "name": "stdout"
        }
      ]
    },
    {
      "cell_type": "markdown",
      "metadata": {
        "id": "O5h4_3xUN5P2"
      },
      "source": [
        "# Determining Stationarity"
      ]
    },
    {
      "cell_type": "code",
      "metadata": {
        "id": "f33dAwigOA--"
      },
      "source": [
        "def time_plot(data, x_col, y_col, title):\n",
        "    fig, ax = plt.subplots(figsize=(15,5))\n",
        "    sns.lineplot(x_col, y_col, data=data, ax=ax, color='mediumblue', label='Total cases')\n",
        "    \n",
        "    second = data.groupby(data.Date.dt.year)[y_col].mean().reset_index()\n",
        "    second.Date = pd.to_datetime(second.Date, format='%Y')\n",
        "    sns.lineplot((second.Date + datetime.timedelta(365/12)), y_col, data=second, ax=ax, color='red', label='Mean cases')   \n",
        "    \n",
        "    ax.set(xlabel = \"Date\",\n",
        "           ylabel = \"confirmed\",\n",
        "           title = title)\n",
        "    \n",
        "    sns.despine()"
      ],
      "execution_count": 13,
      "outputs": []
    },
    {
      "cell_type": "code",
      "metadata": {
        "id": "X5_J8tHlOWjQ",
        "outputId": "2a4a77fc-e387-4aae-e716-b7f3f4c34cfa",
        "colab": {
          "base_uri": "https://localhost:8080/",
          "height": 438
        }
      },
      "source": [
        "time_plot(monthly_df, 'Date', 'Confirmed','Monthly confirmed cases Before Diff Transformation')"
      ],
      "execution_count": 14,
      "outputs": [
        {
          "output_type": "stream",
          "text": [
            "/usr/local/lib/python3.6/dist-packages/seaborn/_decorators.py:43: FutureWarning: Pass the following variables as keyword args: x, y. From version 0.12, the only valid positional argument will be `data`, and passing other arguments without an explicit keyword will result in an error or misinterpretation.\n",
            "  FutureWarning\n",
            "/usr/local/lib/python3.6/dist-packages/seaborn/_decorators.py:43: FutureWarning: Pass the following variables as keyword args: x, y. From version 0.12, the only valid positional argument will be `data`, and passing other arguments without an explicit keyword will result in an error or misinterpretation.\n",
            "  FutureWarning\n"
          ],
          "name": "stderr"
        },
        {
          "output_type": "display_data",
          "data": {
            "image/png": "[encoded data removed]",
            "text/plain": [
              "<Figure size 1080x360 with 1 Axes>"
            ]
          },
          "metadata": {
            "tags": [],
            "needs_background": "light"
          }
        }
      ]
    },
    {
      "cell_type": "code",
      "metadata": {
        "id": "VJi2QJAJRxah"
      },
      "source": [
        "def get_diff(data):\n",
        "    data['Confirmed_diff'] = data.Confirmed.diff()\n",
        "    data = data.dropna()\n",
        "    \n",
        "    return data"
      ],
      "execution_count": 15,
      "outputs": []
    },
    {
      "cell_type": "code",
      "metadata": {
        "id": "kYuPlIK_S8FP"
      },
      "source": [
        "stationary_df = get_diff(monthly_df)"
      ],
      "execution_count": 16,
      "outputs": []
    },
    {
      "cell_type": "code",
      "metadata": {
        "id": "jG2iLPS7S8RS",
        "outputId": "3d6d723e-0c26-46e5-c276-2663eb66b1ea",
        "colab": {
          "base_uri": "https://localhost:8080/",
          "height": 438
        }
      },
      "source": [
        "time_plot(stationary_df, 'Date', 'Confirmed_diff', 'Monthly cases After Diff Transformation')"
      ],
      "execution_count": 17,
      "outputs": [
        {
          "output_type": "stream",
          "text": [
            "/usr/local/lib/python3.6/dist-packages/seaborn/_decorators.py:43: FutureWarning: Pass the following variables as keyword args: x, y. From version 0.12, the only valid positional argument will be `data`, and passing other arguments without an explicit keyword will result in an error or misinterpretation.\n",
            "  FutureWarning\n",
            "/usr/local/lib/python3.6/dist-packages/seaborn/_decorators.py:43: FutureWarning: Pass the following variables as keyword args: x, y. From version 0.12, the only valid positional argument will be `data`, and passing other arguments without an explicit keyword will result in an error or misinterpretation.\n",
            "  FutureWarning\n"
          ],
          "name": "stderr"
        },
        {
          "output_type": "display_data",
          "data": {
            "image/png": "[encoded data removed]",
            "text/plain": [
              "<Figure size 1080x360 with 1 Axes>"
            ]
          },
          "metadata": {
            "tags": [],
            "needs_background": "light"
          }
        }
      ]
    },
    {
      "cell_type": "code",
      "metadata": {
        "id": "qlCbfqbpUDYL",
        "outputId": "aa1f3526-7a60-454e-f75d-ecf59d2b0204",
        "colab": {
          "base_uri": "https://localhost:8080/",
          "height": 369
        }
      },
      "source": [
        "def plots(data, lags=None):\n",
        "    \n",
        "    # Convert dataframe to datetime index\n",
        "    dt_data = data.set_index('Date').drop('Confirmed', axis=1)\n",
        "    dt_data.dropna(axis=0)\n",
        "    \n",
        "    layout = (1, 3)\n",
        "    raw  = plt.subplot2grid(layout, (0, 0))\n",
        "    acf  = plt.subplot2grid(layout, (0, 1))\n",
        "    pacf = plt.subplot2grid(layout, (0, 2))\n",
        "    \n",
        "    dt_data.plot(ax=raw, figsize=(12, 5), color='mediumblue')\n",
        "    smt.graphics.plot_acf(dt_data, lags=lags, ax=acf, color='mediumblue')\n",
        "    smt.graphics.plot_pacf(dt_data, lags=lags, ax=pacf, color='mediumblue')\n",
        "    sns.despine()\n",
        "    plt.tight_layout()\n",
        "\n",
        "plots(stationary_df, lags=24);"
      ],
      "execution_count": 18,
      "outputs": [
        {
          "output_type": "display_data",
          "data": {
            "image/png": "[encoded data removed]",
            "text/plain": [
              "<Figure size 864x360 with 3 Axes>"
            ]
          },
          "metadata": {
            "tags": [],
            "needs_background": "light"
          }
        }
      ]
    },
    {
      "cell_type": "markdown",
      "metadata": {
        "id": "AS7ZO9t0U03l"
      },
      "source": [
        "# Preparing Dataset Modeling"
      ]
    },
    {
      "cell_type": "code",
      "metadata": {
        "id": "f3Kp10hQU5lW"
      },
      "source": [
        "#create dataframe for transformation from time series to supervised\n",
        "def generate_supervised(data):\n",
        "    supervised_df = data.copy()\n",
        "    \n",
        "    #create column for each lag\n",
        "    for i in range(1,13):\n",
        "        col_name = 'lag_' + str(i)\n",
        "        supervised_df[col_name] = supervised_df['Confirmed_diff'].shift(i)\n",
        "    \n",
        "    #drop null values\n",
        "    supervised_df = supervised_df.dropna().reset_index(drop=True)\n",
        "    \n",
        "   # supervised_df.to_csv('../data/model_df.csv', index=False)\n",
        "    \n",
        "    return supervised_df"
      ],
      "execution_count": 19,
      "outputs": []
    },
    {
      "cell_type": "code",
      "metadata": {
        "id": "M5vLsaO5U5sc",
        "outputId": "d2ccf598-5cba-41bc-d384-eb2e53c1071f",
        "colab": {
          "base_uri": "https://localhost:8080/",
          "height": 1000
        }
      },
      "source": [
        "model_df = generate_supervised(stationary_df)\n",
        "model_df"
      ],
      "execution_count": 20,
      "outputs": [
        {
          "output_type": "execute_result",
          "data": {
            "text/html": [
              "<div>\n",
              "<style scoped>\n",
              "    .dataframe tbody tr th:only-of-type {\n",
              "        vertical-align: middle;\n",
              "    }\n",
              "\n",
              "    .dataframe tbody tr th {\n",
              "        vertical-align: top;\n",
              "    }\n",
              "\n",
              "    .dataframe thead th {\n",
              "        text-align: right;\n",
              "    }\n",
              "</style>\n",
              "<table border=\"1\" class=\"dataframe\">\n",
              "  <thead>\n",
              "    <tr style=\"text-align: right;\">\n",
              "      <th></th>\n",
              "      <th>Date</th>\n",
              "      <th>Confirmed</th>\n",
              "      <th>Confirmed_diff</th>\n",
              "      <th>lag_1</th>\n",
              "      <th>lag_2</th>\n",
              "      <th>lag_3</th>\n",
              "      <th>lag_4</th>\n",
              "      <th>lag_5</th>\n",
              "      <th>lag_6</th>\n",
              "      <th>lag_7</th>\n",
              "      <th>lag_8</th>\n",
              "      <th>lag_9</th>\n",
              "      <th>lag_10</th>\n",
              "      <th>lag_11</th>\n",
              "      <th>lag_12</th>\n",
              "    </tr>\n",
              "  </thead>\n",
              "  <tbody>\n",
              "    <tr>\n",
              "      <th>0</th>\n",
              "      <td>2020-02-04</td>\n",
              "      <td>23881.0</td>\n",
              "      <td>4011.0</td>\n",
              "      <td>3091.0</td>\n",
              "      <td>4749.0</td>\n",
              "      <td>2110.0</td>\n",
              "      <td>1691.0</td>\n",
              "      <td>2068.0</td>\n",
              "      <td>588.0</td>\n",
              "      <td>2651.0</td>\n",
              "      <td>809.0</td>\n",
              "      <td>681.0</td>\n",
              "      <td>493.0</td>\n",
              "      <td>287.0</td>\n",
              "      <td>98.0</td>\n",
              "    </tr>\n",
              "    <tr>\n",
              "      <th>1</th>\n",
              "      <td>2020-02-05</td>\n",
              "      <td>27624.0</td>\n",
              "      <td>3743.0</td>\n",
              "      <td>4011.0</td>\n",
              "      <td>3091.0</td>\n",
              "      <td>4749.0</td>\n",
              "      <td>2110.0</td>\n",
              "      <td>1691.0</td>\n",
              "      <td>2068.0</td>\n",
              "      <td>588.0</td>\n",
              "      <td>2651.0</td>\n",
              "      <td>809.0</td>\n",
              "      <td>681.0</td>\n",
              "      <td>493.0</td>\n",
              "      <td>287.0</td>\n",
              "    </tr>\n",
              "    <tr>\n",
              "      <th>2</th>\n",
              "      <td>2020-02-06</td>\n",
              "      <td>30806.0</td>\n",
              "      <td>3182.0</td>\n",
              "      <td>3743.0</td>\n",
              "      <td>4011.0</td>\n",
              "      <td>3091.0</td>\n",
              "      <td>4749.0</td>\n",
              "      <td>2110.0</td>\n",
              "      <td>1691.0</td>\n",
              "      <td>2068.0</td>\n",
              "      <td>588.0</td>\n",
              "      <td>2651.0</td>\n",
              "      <td>809.0</td>\n",
              "      <td>681.0</td>\n",
              "      <td>493.0</td>\n",
              "    </tr>\n",
              "    <tr>\n",
              "      <th>3</th>\n",
              "      <td>2020-02-07</td>\n",
              "      <td>34380.0</td>\n",
              "      <td>3574.0</td>\n",
              "      <td>3182.0</td>\n",
              "      <td>3743.0</td>\n",
              "      <td>4011.0</td>\n",
              "      <td>3091.0</td>\n",
              "      <td>4749.0</td>\n",
              "      <td>2110.0</td>\n",
              "      <td>1691.0</td>\n",
              "      <td>2068.0</td>\n",
              "      <td>588.0</td>\n",
              "      <td>2651.0</td>\n",
              "      <td>809.0</td>\n",
              "      <td>681.0</td>\n",
              "    </tr>\n",
              "    <tr>\n",
              "      <th>4</th>\n",
              "      <td>2020-02-08</td>\n",
              "      <td>37109.0</td>\n",
              "      <td>2729.0</td>\n",
              "      <td>3574.0</td>\n",
              "      <td>3182.0</td>\n",
              "      <td>3743.0</td>\n",
              "      <td>4011.0</td>\n",
              "      <td>3091.0</td>\n",
              "      <td>4749.0</td>\n",
              "      <td>2110.0</td>\n",
              "      <td>1691.0</td>\n",
              "      <td>2068.0</td>\n",
              "      <td>588.0</td>\n",
              "      <td>2651.0</td>\n",
              "      <td>809.0</td>\n",
              "    </tr>\n",
              "    <tr>\n",
              "      <th>5</th>\n",
              "      <td>2020-02-09</td>\n",
              "      <td>40139.0</td>\n",
              "      <td>3030.0</td>\n",
              "      <td>2729.0</td>\n",
              "      <td>3574.0</td>\n",
              "      <td>3182.0</td>\n",
              "      <td>3743.0</td>\n",
              "      <td>4011.0</td>\n",
              "      <td>3091.0</td>\n",
              "      <td>4749.0</td>\n",
              "      <td>2110.0</td>\n",
              "      <td>1691.0</td>\n",
              "      <td>2068.0</td>\n",
              "      <td>588.0</td>\n",
              "      <td>2651.0</td>\n",
              "    </tr>\n",
              "    <tr>\n",
              "      <th>6</th>\n",
              "      <td>2020-02-10</td>\n",
              "      <td>42751.0</td>\n",
              "      <td>2612.0</td>\n",
              "      <td>3030.0</td>\n",
              "      <td>2729.0</td>\n",
              "      <td>3574.0</td>\n",
              "      <td>3182.0</td>\n",
              "      <td>3743.0</td>\n",
              "      <td>4011.0</td>\n",
              "      <td>3091.0</td>\n",
              "      <td>4749.0</td>\n",
              "      <td>2110.0</td>\n",
              "      <td>1691.0</td>\n",
              "      <td>2068.0</td>\n",
              "      <td>588.0</td>\n",
              "    </tr>\n",
              "    <tr>\n",
              "      <th>7</th>\n",
              "      <td>2020-02-11</td>\n",
              "      <td>44790.0</td>\n",
              "      <td>2039.0</td>\n",
              "      <td>2612.0</td>\n",
              "      <td>3030.0</td>\n",
              "      <td>2729.0</td>\n",
              "      <td>3574.0</td>\n",
              "      <td>3182.0</td>\n",
              "      <td>3743.0</td>\n",
              "      <td>4011.0</td>\n",
              "      <td>3091.0</td>\n",
              "      <td>4749.0</td>\n",
              "      <td>2110.0</td>\n",
              "      <td>1691.0</td>\n",
              "      <td>2068.0</td>\n",
              "    </tr>\n",
              "    <tr>\n",
              "      <th>8</th>\n",
              "      <td>2020-02-12</td>\n",
              "      <td>45209.0</td>\n",
              "      <td>419.0</td>\n",
              "      <td>2039.0</td>\n",
              "      <td>2612.0</td>\n",
              "      <td>3030.0</td>\n",
              "      <td>2729.0</td>\n",
              "      <td>3574.0</td>\n",
              "      <td>3182.0</td>\n",
              "      <td>3743.0</td>\n",
              "      <td>4011.0</td>\n",
              "      <td>3091.0</td>\n",
              "      <td>4749.0</td>\n",
              "      <td>2110.0</td>\n",
              "      <td>1691.0</td>\n",
              "    </tr>\n",
              "    <tr>\n",
              "      <th>9</th>\n",
              "      <td>2020-02-13</td>\n",
              "      <td>60355.0</td>\n",
              "      <td>15146.0</td>\n",
              "      <td>419.0</td>\n",
              "      <td>2039.0</td>\n",
              "      <td>2612.0</td>\n",
              "      <td>3030.0</td>\n",
              "      <td>2729.0</td>\n",
              "      <td>3574.0</td>\n",
              "      <td>3182.0</td>\n",
              "      <td>3743.0</td>\n",
              "      <td>4011.0</td>\n",
              "      <td>3091.0</td>\n",
              "      <td>4749.0</td>\n",
              "      <td>2110.0</td>\n",
              "    </tr>\n",
              "    <tr>\n",
              "      <th>10</th>\n",
              "      <td>2020-02-14</td>\n",
              "      <td>66872.0</td>\n",
              "      <td>6517.0</td>\n",
              "      <td>15146.0</td>\n",
              "      <td>419.0</td>\n",
              "      <td>2039.0</td>\n",
              "      <td>2612.0</td>\n",
              "      <td>3030.0</td>\n",
              "      <td>2729.0</td>\n",
              "      <td>3574.0</td>\n",
              "      <td>3182.0</td>\n",
              "      <td>3743.0</td>\n",
              "      <td>4011.0</td>\n",
              "      <td>3091.0</td>\n",
              "      <td>4749.0</td>\n",
              "    </tr>\n",
              "    <tr>\n",
              "      <th>11</th>\n",
              "      <td>2020-02-15</td>\n",
              "      <td>69017.0</td>\n",
              "      <td>2145.0</td>\n",
              "      <td>6517.0</td>\n",
              "      <td>15146.0</td>\n",
              "      <td>419.0</td>\n",
              "      <td>2039.0</td>\n",
              "      <td>2612.0</td>\n",
              "      <td>3030.0</td>\n",
              "      <td>2729.0</td>\n",
              "      <td>3574.0</td>\n",
              "      <td>3182.0</td>\n",
              "      <td>3743.0</td>\n",
              "      <td>4011.0</td>\n",
              "      <td>3091.0</td>\n",
              "    </tr>\n",
              "    <tr>\n",
              "      <th>12</th>\n",
              "      <td>2020-02-16</td>\n",
              "      <td>71211.0</td>\n",
              "      <td>2194.0</td>\n",
              "      <td>2145.0</td>\n",
              "      <td>6517.0</td>\n",
              "      <td>15146.0</td>\n",
              "      <td>419.0</td>\n",
              "      <td>2039.0</td>\n",
              "      <td>2612.0</td>\n",
              "      <td>3030.0</td>\n",
              "      <td>2729.0</td>\n",
              "      <td>3574.0</td>\n",
              "      <td>3182.0</td>\n",
              "      <td>3743.0</td>\n",
              "      <td>4011.0</td>\n",
              "    </tr>\n",
              "    <tr>\n",
              "      <th>13</th>\n",
              "      <td>2020-02-17</td>\n",
              "      <td>73245.0</td>\n",
              "      <td>2034.0</td>\n",
              "      <td>2194.0</td>\n",
              "      <td>2145.0</td>\n",
              "      <td>6517.0</td>\n",
              "      <td>15146.0</td>\n",
              "      <td>419.0</td>\n",
              "      <td>2039.0</td>\n",
              "      <td>2612.0</td>\n",
              "      <td>3030.0</td>\n",
              "      <td>2729.0</td>\n",
              "      <td>3574.0</td>\n",
              "      <td>3182.0</td>\n",
              "      <td>3743.0</td>\n",
              "    </tr>\n",
              "    <tr>\n",
              "      <th>14</th>\n",
              "      <td>2020-02-18</td>\n",
              "      <td>75123.0</td>\n",
              "      <td>1878.0</td>\n",
              "      <td>2034.0</td>\n",
              "      <td>2194.0</td>\n",
              "      <td>2145.0</td>\n",
              "      <td>6517.0</td>\n",
              "      <td>15146.0</td>\n",
              "      <td>419.0</td>\n",
              "      <td>2039.0</td>\n",
              "      <td>2612.0</td>\n",
              "      <td>3030.0</td>\n",
              "      <td>2729.0</td>\n",
              "      <td>3574.0</td>\n",
              "      <td>3182.0</td>\n",
              "    </tr>\n",
              "    <tr>\n",
              "      <th>15</th>\n",
              "      <td>2020-02-19</td>\n",
              "      <td>75626.0</td>\n",
              "      <td>503.0</td>\n",
              "      <td>1878.0</td>\n",
              "      <td>2034.0</td>\n",
              "      <td>2194.0</td>\n",
              "      <td>2145.0</td>\n",
              "      <td>6517.0</td>\n",
              "      <td>15146.0</td>\n",
              "      <td>419.0</td>\n",
              "      <td>2039.0</td>\n",
              "      <td>2612.0</td>\n",
              "      <td>3030.0</td>\n",
              "      <td>2729.0</td>\n",
              "      <td>3574.0</td>\n",
              "    </tr>\n",
              "    <tr>\n",
              "      <th>16</th>\n",
              "      <td>2020-02-20</td>\n",
              "      <td>76184.0</td>\n",
              "      <td>558.0</td>\n",
              "      <td>503.0</td>\n",
              "      <td>1878.0</td>\n",
              "      <td>2034.0</td>\n",
              "      <td>2194.0</td>\n",
              "      <td>2145.0</td>\n",
              "      <td>6517.0</td>\n",
              "      <td>15146.0</td>\n",
              "      <td>419.0</td>\n",
              "      <td>2039.0</td>\n",
              "      <td>2612.0</td>\n",
              "      <td>3030.0</td>\n",
              "      <td>2729.0</td>\n",
              "    </tr>\n",
              "    <tr>\n",
              "      <th>17</th>\n",
              "      <td>2020-02-21</td>\n",
              "      <td>76808.0</td>\n",
              "      <td>624.0</td>\n",
              "      <td>558.0</td>\n",
              "      <td>503.0</td>\n",
              "      <td>1878.0</td>\n",
              "      <td>2034.0</td>\n",
              "      <td>2194.0</td>\n",
              "      <td>2145.0</td>\n",
              "      <td>6517.0</td>\n",
              "      <td>15146.0</td>\n",
              "      <td>419.0</td>\n",
              "      <td>2039.0</td>\n",
              "      <td>2612.0</td>\n",
              "      <td>3030.0</td>\n",
              "    </tr>\n",
              "    <tr>\n",
              "      <th>18</th>\n",
              "      <td>2020-02-22</td>\n",
              "      <td>78564.0</td>\n",
              "      <td>1756.0</td>\n",
              "      <td>624.0</td>\n",
              "      <td>558.0</td>\n",
              "      <td>503.0</td>\n",
              "      <td>1878.0</td>\n",
              "      <td>2034.0</td>\n",
              "      <td>2194.0</td>\n",
              "      <td>2145.0</td>\n",
              "      <td>6517.0</td>\n",
              "      <td>15146.0</td>\n",
              "      <td>419.0</td>\n",
              "      <td>2039.0</td>\n",
              "      <td>2612.0</td>\n",
              "    </tr>\n",
              "    <tr>\n",
              "      <th>19</th>\n",
              "      <td>2020-02-23</td>\n",
              "      <td>78950.0</td>\n",
              "      <td>386.0</td>\n",
              "      <td>1756.0</td>\n",
              "      <td>624.0</td>\n",
              "      <td>558.0</td>\n",
              "      <td>503.0</td>\n",
              "      <td>1878.0</td>\n",
              "      <td>2034.0</td>\n",
              "      <td>2194.0</td>\n",
              "      <td>2145.0</td>\n",
              "      <td>6517.0</td>\n",
              "      <td>15146.0</td>\n",
              "      <td>419.0</td>\n",
              "      <td>2039.0</td>\n",
              "    </tr>\n",
              "    <tr>\n",
              "      <th>20</th>\n",
              "      <td>2020-02-24</td>\n",
              "      <td>79553.0</td>\n",
              "      <td>603.0</td>\n",
              "      <td>386.0</td>\n",
              "      <td>1756.0</td>\n",
              "      <td>624.0</td>\n",
              "      <td>558.0</td>\n",
              "      <td>503.0</td>\n",
              "      <td>1878.0</td>\n",
              "      <td>2034.0</td>\n",
              "      <td>2194.0</td>\n",
              "      <td>2145.0</td>\n",
              "      <td>6517.0</td>\n",
              "      <td>15146.0</td>\n",
              "      <td>419.0</td>\n",
              "    </tr>\n",
              "    <tr>\n",
              "      <th>21</th>\n",
              "      <td>2020-02-25</td>\n",
              "      <td>80398.0</td>\n",
              "      <td>845.0</td>\n",
              "      <td>603.0</td>\n",
              "      <td>386.0</td>\n",
              "      <td>1756.0</td>\n",
              "      <td>624.0</td>\n",
              "      <td>558.0</td>\n",
              "      <td>503.0</td>\n",
              "      <td>1878.0</td>\n",
              "      <td>2034.0</td>\n",
              "      <td>2194.0</td>\n",
              "      <td>2145.0</td>\n",
              "      <td>6517.0</td>\n",
              "      <td>15146.0</td>\n",
              "    </tr>\n",
              "    <tr>\n",
              "      <th>22</th>\n",
              "      <td>2020-02-26</td>\n",
              "      <td>81380.0</td>\n",
              "      <td>982.0</td>\n",
              "      <td>845.0</td>\n",
              "      <td>603.0</td>\n",
              "      <td>386.0</td>\n",
              "      <td>1756.0</td>\n",
              "      <td>624.0</td>\n",
              "      <td>558.0</td>\n",
              "      <td>503.0</td>\n",
              "      <td>1878.0</td>\n",
              "      <td>2034.0</td>\n",
              "      <td>2194.0</td>\n",
              "      <td>2145.0</td>\n",
              "      <td>6517.0</td>\n",
              "    </tr>\n",
              "    <tr>\n",
              "      <th>23</th>\n",
              "      <td>2020-02-27</td>\n",
              "      <td>82738.0</td>\n",
              "      <td>1358.0</td>\n",
              "      <td>982.0</td>\n",
              "      <td>845.0</td>\n",
              "      <td>603.0</td>\n",
              "      <td>386.0</td>\n",
              "      <td>1756.0</td>\n",
              "      <td>624.0</td>\n",
              "      <td>558.0</td>\n",
              "      <td>503.0</td>\n",
              "      <td>1878.0</td>\n",
              "      <td>2034.0</td>\n",
              "      <td>2194.0</td>\n",
              "      <td>2145.0</td>\n",
              "    </tr>\n",
              "    <tr>\n",
              "      <th>24</th>\n",
              "      <td>2020-02-28</td>\n",
              "      <td>84104.0</td>\n",
              "      <td>1366.0</td>\n",
              "      <td>1358.0</td>\n",
              "      <td>982.0</td>\n",
              "      <td>845.0</td>\n",
              "      <td>603.0</td>\n",
              "      <td>386.0</td>\n",
              "      <td>1756.0</td>\n",
              "      <td>624.0</td>\n",
              "      <td>558.0</td>\n",
              "      <td>503.0</td>\n",
              "      <td>1878.0</td>\n",
              "      <td>2034.0</td>\n",
              "      <td>2194.0</td>\n",
              "    </tr>\n",
              "    <tr>\n",
              "      <th>25</th>\n",
              "      <td>2020-02-29</td>\n",
              "      <td>85987.0</td>\n",
              "      <td>1883.0</td>\n",
              "      <td>1366.0</td>\n",
              "      <td>1358.0</td>\n",
              "      <td>982.0</td>\n",
              "      <td>845.0</td>\n",
              "      <td>603.0</td>\n",
              "      <td>386.0</td>\n",
              "      <td>1756.0</td>\n",
              "      <td>624.0</td>\n",
              "      <td>558.0</td>\n",
              "      <td>503.0</td>\n",
              "      <td>1878.0</td>\n",
              "      <td>2034.0</td>\n",
              "    </tr>\n",
              "    <tr>\n",
              "      <th>26</th>\n",
              "      <td>2020-03-01</td>\n",
              "      <td>88339.0</td>\n",
              "      <td>2352.0</td>\n",
              "      <td>1883.0</td>\n",
              "      <td>1366.0</td>\n",
              "      <td>1358.0</td>\n",
              "      <td>982.0</td>\n",
              "      <td>845.0</td>\n",
              "      <td>603.0</td>\n",
              "      <td>386.0</td>\n",
              "      <td>1756.0</td>\n",
              "      <td>624.0</td>\n",
              "      <td>558.0</td>\n",
              "      <td>503.0</td>\n",
              "      <td>1878.0</td>\n",
              "    </tr>\n",
              "    <tr>\n",
              "      <th>27</th>\n",
              "      <td>2020-03-02</td>\n",
              "      <td>90253.0</td>\n",
              "      <td>1914.0</td>\n",
              "      <td>2352.0</td>\n",
              "      <td>1883.0</td>\n",
              "      <td>1366.0</td>\n",
              "      <td>1358.0</td>\n",
              "      <td>982.0</td>\n",
              "      <td>845.0</td>\n",
              "      <td>603.0</td>\n",
              "      <td>386.0</td>\n",
              "      <td>1756.0</td>\n",
              "      <td>624.0</td>\n",
              "      <td>558.0</td>\n",
              "      <td>503.0</td>\n",
              "    </tr>\n",
              "    <tr>\n",
              "      <th>28</th>\n",
              "      <td>2020-03-03</td>\n",
              "      <td>92767.0</td>\n",
              "      <td>2514.0</td>\n",
              "      <td>1914.0</td>\n",
              "      <td>2352.0</td>\n",
              "      <td>1883.0</td>\n",
              "      <td>1366.0</td>\n",
              "      <td>1358.0</td>\n",
              "      <td>982.0</td>\n",
              "      <td>845.0</td>\n",
              "      <td>603.0</td>\n",
              "      <td>386.0</td>\n",
              "      <td>1756.0</td>\n",
              "      <td>624.0</td>\n",
              "      <td>558.0</td>\n",
              "    </tr>\n",
              "    <tr>\n",
              "      <th>29</th>\n",
              "      <td>2020-03-04</td>\n",
              "      <td>95016.0</td>\n",
              "      <td>2249.0</td>\n",
              "      <td>2514.0</td>\n",
              "      <td>1914.0</td>\n",
              "      <td>2352.0</td>\n",
              "      <td>1883.0</td>\n",
              "      <td>1366.0</td>\n",
              "      <td>1358.0</td>\n",
              "      <td>982.0</td>\n",
              "      <td>845.0</td>\n",
              "      <td>603.0</td>\n",
              "      <td>386.0</td>\n",
              "      <td>1756.0</td>\n",
              "      <td>624.0</td>\n",
              "    </tr>\n",
              "    <tr>\n",
              "      <th>30</th>\n",
              "      <td>2020-03-05</td>\n",
              "      <td>97710.0</td>\n",
              "      <td>2694.0</td>\n",
              "      <td>2249.0</td>\n",
              "      <td>2514.0</td>\n",
              "      <td>1914.0</td>\n",
              "      <td>2352.0</td>\n",
              "      <td>1883.0</td>\n",
              "      <td>1366.0</td>\n",
              "      <td>1358.0</td>\n",
              "      <td>982.0</td>\n",
              "      <td>845.0</td>\n",
              "      <td>603.0</td>\n",
              "      <td>386.0</td>\n",
              "      <td>1756.0</td>\n",
              "    </tr>\n",
              "    <tr>\n",
              "      <th>31</th>\n",
              "      <td>2020-03-06</td>\n",
              "      <td>101567.0</td>\n",
              "      <td>3857.0</td>\n",
              "      <td>2694.0</td>\n",
              "      <td>2249.0</td>\n",
              "      <td>2514.0</td>\n",
              "      <td>1914.0</td>\n",
              "      <td>2352.0</td>\n",
              "      <td>1883.0</td>\n",
              "      <td>1366.0</td>\n",
              "      <td>1358.0</td>\n",
              "      <td>982.0</td>\n",
              "      <td>845.0</td>\n",
              "      <td>603.0</td>\n",
              "      <td>386.0</td>\n",
              "    </tr>\n",
              "    <tr>\n",
              "      <th>32</th>\n",
              "      <td>2020-03-07</td>\n",
              "      <td>105485.0</td>\n",
              "      <td>3918.0</td>\n",
              "      <td>3857.0</td>\n",
              "      <td>2694.0</td>\n",
              "      <td>2249.0</td>\n",
              "      <td>2514.0</td>\n",
              "      <td>1914.0</td>\n",
              "      <td>2352.0</td>\n",
              "      <td>1883.0</td>\n",
              "      <td>1366.0</td>\n",
              "      <td>1358.0</td>\n",
              "      <td>982.0</td>\n",
              "      <td>845.0</td>\n",
              "      <td>603.0</td>\n",
              "    </tr>\n",
              "    <tr>\n",
              "      <th>33</th>\n",
              "      <td>2020-03-08</td>\n",
              "      <td>109343.0</td>\n",
              "      <td>3858.0</td>\n",
              "      <td>3918.0</td>\n",
              "      <td>3857.0</td>\n",
              "      <td>2694.0</td>\n",
              "      <td>2249.0</td>\n",
              "      <td>2514.0</td>\n",
              "      <td>1914.0</td>\n",
              "      <td>2352.0</td>\n",
              "      <td>1883.0</td>\n",
              "      <td>1366.0</td>\n",
              "      <td>1358.0</td>\n",
              "      <td>982.0</td>\n",
              "      <td>845.0</td>\n",
              "    </tr>\n",
              "    <tr>\n",
              "      <th>34</th>\n",
              "      <td>2020-03-09</td>\n",
              "      <td>113044.0</td>\n",
              "      <td>3701.0</td>\n",
              "      <td>3858.0</td>\n",
              "      <td>3918.0</td>\n",
              "      <td>3857.0</td>\n",
              "      <td>2694.0</td>\n",
              "      <td>2249.0</td>\n",
              "      <td>2514.0</td>\n",
              "      <td>1914.0</td>\n",
              "      <td>2352.0</td>\n",
              "      <td>1883.0</td>\n",
              "      <td>1366.0</td>\n",
              "      <td>1358.0</td>\n",
              "      <td>982.0</td>\n",
              "    </tr>\n",
              "    <tr>\n",
              "      <th>35</th>\n",
              "      <td>2020-03-10</td>\n",
              "      <td>118592.0</td>\n",
              "      <td>5548.0</td>\n",
              "      <td>3701.0</td>\n",
              "      <td>3858.0</td>\n",
              "      <td>3918.0</td>\n",
              "      <td>3857.0</td>\n",
              "      <td>2694.0</td>\n",
              "      <td>2249.0</td>\n",
              "      <td>2514.0</td>\n",
              "      <td>1914.0</td>\n",
              "      <td>2352.0</td>\n",
              "      <td>1883.0</td>\n",
              "      <td>1366.0</td>\n",
              "      <td>1358.0</td>\n",
              "    </tr>\n",
              "    <tr>\n",
              "      <th>36</th>\n",
              "      <td>2020-03-11</td>\n",
              "      <td>125865.0</td>\n",
              "      <td>7273.0</td>\n",
              "      <td>5548.0</td>\n",
              "      <td>3701.0</td>\n",
              "      <td>3858.0</td>\n",
              "      <td>3918.0</td>\n",
              "      <td>3857.0</td>\n",
              "      <td>2694.0</td>\n",
              "      <td>2249.0</td>\n",
              "      <td>2514.0</td>\n",
              "      <td>1914.0</td>\n",
              "      <td>2352.0</td>\n",
              "      <td>1883.0</td>\n",
              "      <td>1366.0</td>\n",
              "    </tr>\n",
              "    <tr>\n",
              "      <th>37</th>\n",
              "      <td>2020-03-12</td>\n",
              "      <td>128343.0</td>\n",
              "      <td>2478.0</td>\n",
              "      <td>7273.0</td>\n",
              "      <td>5548.0</td>\n",
              "      <td>3701.0</td>\n",
              "      <td>3858.0</td>\n",
              "      <td>3918.0</td>\n",
              "      <td>3857.0</td>\n",
              "      <td>2694.0</td>\n",
              "      <td>2249.0</td>\n",
              "      <td>2514.0</td>\n",
              "      <td>1914.0</td>\n",
              "      <td>2352.0</td>\n",
              "      <td>1883.0</td>\n",
              "    </tr>\n",
              "    <tr>\n",
              "      <th>38</th>\n",
              "      <td>2020-03-13</td>\n",
              "      <td>145193.0</td>\n",
              "      <td>16850.0</td>\n",
              "      <td>2478.0</td>\n",
              "      <td>7273.0</td>\n",
              "      <td>5548.0</td>\n",
              "      <td>3701.0</td>\n",
              "      <td>3858.0</td>\n",
              "      <td>3918.0</td>\n",
              "      <td>3857.0</td>\n",
              "      <td>2694.0</td>\n",
              "      <td>2249.0</td>\n",
              "      <td>2514.0</td>\n",
              "      <td>1914.0</td>\n",
              "      <td>2352.0</td>\n",
              "    </tr>\n",
              "    <tr>\n",
              "      <th>39</th>\n",
              "      <td>2020-03-14</td>\n",
              "      <td>156094.0</td>\n",
              "      <td>10901.0</td>\n",
              "      <td>16850.0</td>\n",
              "      <td>2478.0</td>\n",
              "      <td>7273.0</td>\n",
              "      <td>5548.0</td>\n",
              "      <td>3701.0</td>\n",
              "      <td>3858.0</td>\n",
              "      <td>3918.0</td>\n",
              "      <td>3857.0</td>\n",
              "      <td>2694.0</td>\n",
              "      <td>2249.0</td>\n",
              "      <td>2514.0</td>\n",
              "      <td>1914.0</td>\n",
              "    </tr>\n",
              "    <tr>\n",
              "      <th>40</th>\n",
              "      <td>2020-03-15</td>\n",
              "      <td>167446.0</td>\n",
              "      <td>11352.0</td>\n",
              "      <td>10901.0</td>\n",
              "      <td>16850.0</td>\n",
              "      <td>2478.0</td>\n",
              "      <td>7273.0</td>\n",
              "      <td>5548.0</td>\n",
              "      <td>3701.0</td>\n",
              "      <td>3858.0</td>\n",
              "      <td>3918.0</td>\n",
              "      <td>3857.0</td>\n",
              "      <td>2694.0</td>\n",
              "      <td>2249.0</td>\n",
              "      <td>2514.0</td>\n",
              "    </tr>\n",
              "    <tr>\n",
              "      <th>41</th>\n",
              "      <td>2020-03-16</td>\n",
              "      <td>181527.0</td>\n",
              "      <td>14081.0</td>\n",
              "      <td>11352.0</td>\n",
              "      <td>10901.0</td>\n",
              "      <td>16850.0</td>\n",
              "      <td>2478.0</td>\n",
              "      <td>7273.0</td>\n",
              "      <td>5548.0</td>\n",
              "      <td>3701.0</td>\n",
              "      <td>3858.0</td>\n",
              "      <td>3918.0</td>\n",
              "      <td>3857.0</td>\n",
              "      <td>2694.0</td>\n",
              "      <td>2249.0</td>\n",
              "    </tr>\n",
              "    <tr>\n",
              "      <th>42</th>\n",
              "      <td>2020-03-17</td>\n",
              "      <td>197142.0</td>\n",
              "      <td>15615.0</td>\n",
              "      <td>14081.0</td>\n",
              "      <td>11352.0</td>\n",
              "      <td>10901.0</td>\n",
              "      <td>16850.0</td>\n",
              "      <td>2478.0</td>\n",
              "      <td>7273.0</td>\n",
              "      <td>5548.0</td>\n",
              "      <td>3701.0</td>\n",
              "      <td>3858.0</td>\n",
              "      <td>3918.0</td>\n",
              "      <td>3857.0</td>\n",
              "      <td>2694.0</td>\n",
              "    </tr>\n",
              "    <tr>\n",
              "      <th>43</th>\n",
              "      <td>2020-03-18</td>\n",
              "      <td>214910.0</td>\n",
              "      <td>17768.0</td>\n",
              "      <td>15615.0</td>\n",
              "      <td>14081.0</td>\n",
              "      <td>11352.0</td>\n",
              "      <td>10901.0</td>\n",
              "      <td>16850.0</td>\n",
              "      <td>2478.0</td>\n",
              "      <td>7273.0</td>\n",
              "      <td>5548.0</td>\n",
              "      <td>3701.0</td>\n",
              "      <td>3858.0</td>\n",
              "      <td>3918.0</td>\n",
              "      <td>3857.0</td>\n",
              "    </tr>\n",
              "    <tr>\n",
              "      <th>44</th>\n",
              "      <td>2020-03-19</td>\n",
              "      <td>242708.0</td>\n",
              "      <td>27798.0</td>\n",
              "      <td>17768.0</td>\n",
              "      <td>15615.0</td>\n",
              "      <td>14081.0</td>\n",
              "      <td>11352.0</td>\n",
              "      <td>10901.0</td>\n",
              "      <td>16850.0</td>\n",
              "      <td>2478.0</td>\n",
              "      <td>7273.0</td>\n",
              "      <td>5548.0</td>\n",
              "      <td>3701.0</td>\n",
              "      <td>3858.0</td>\n",
              "      <td>3918.0</td>\n",
              "    </tr>\n",
              "    <tr>\n",
              "      <th>45</th>\n",
              "      <td>2020-03-20</td>\n",
              "      <td>272166.0</td>\n",
              "      <td>29458.0</td>\n",
              "      <td>27798.0</td>\n",
              "      <td>17768.0</td>\n",
              "      <td>15615.0</td>\n",
              "      <td>14081.0</td>\n",
              "      <td>11352.0</td>\n",
              "      <td>10901.0</td>\n",
              "      <td>16850.0</td>\n",
              "      <td>2478.0</td>\n",
              "      <td>7273.0</td>\n",
              "      <td>5548.0</td>\n",
              "      <td>3701.0</td>\n",
              "      <td>3858.0</td>\n",
              "    </tr>\n",
              "    <tr>\n",
              "      <th>46</th>\n",
              "      <td>2020-03-21</td>\n",
              "      <td>304524.0</td>\n",
              "      <td>32358.0</td>\n",
              "      <td>29458.0</td>\n",
              "      <td>27798.0</td>\n",
              "      <td>17768.0</td>\n",
              "      <td>15615.0</td>\n",
              "      <td>14081.0</td>\n",
              "      <td>11352.0</td>\n",
              "      <td>10901.0</td>\n",
              "      <td>16850.0</td>\n",
              "      <td>2478.0</td>\n",
              "      <td>7273.0</td>\n",
              "      <td>5548.0</td>\n",
              "      <td>3701.0</td>\n",
              "    </tr>\n",
              "    <tr>\n",
              "      <th>47</th>\n",
              "      <td>2020-03-22</td>\n",
              "      <td>335955.0</td>\n",
              "      <td>31431.0</td>\n",
              "      <td>32358.0</td>\n",
              "      <td>29458.0</td>\n",
              "      <td>27798.0</td>\n",
              "      <td>17768.0</td>\n",
              "      <td>15615.0</td>\n",
              "      <td>14081.0</td>\n",
              "      <td>11352.0</td>\n",
              "      <td>10901.0</td>\n",
              "      <td>16850.0</td>\n",
              "      <td>2478.0</td>\n",
              "      <td>7273.0</td>\n",
              "      <td>5548.0</td>\n",
              "    </tr>\n",
              "    <tr>\n",
              "      <th>48</th>\n",
              "      <td>2020-03-23</td>\n",
              "      <td>336004.0</td>\n",
              "      <td>49.0</td>\n",
              "      <td>31431.0</td>\n",
              "      <td>32358.0</td>\n",
              "      <td>29458.0</td>\n",
              "      <td>27798.0</td>\n",
              "      <td>17768.0</td>\n",
              "      <td>15615.0</td>\n",
              "      <td>14081.0</td>\n",
              "      <td>11352.0</td>\n",
              "      <td>10901.0</td>\n",
              "      <td>16850.0</td>\n",
              "      <td>2478.0</td>\n",
              "      <td>7273.0</td>\n",
              "    </tr>\n",
              "  </tbody>\n",
              "</table>\n",
              "</div>"
            ],
            "text/plain": [
              "         Date  Confirmed  Confirmed_diff  ...   lag_10   lag_11   lag_12\n",
              "0  2020-02-04    23881.0          4011.0  ...    493.0    287.0     98.0\n",
              "1  2020-02-05    27624.0          3743.0  ...    681.0    493.0    287.0\n",
              "2  2020-02-06    30806.0          3182.0  ...    809.0    681.0    493.0\n",
              "3  2020-02-07    34380.0          3574.0  ...   2651.0    809.0    681.0\n",
              "4  2020-02-08    37109.0          2729.0  ...    588.0   2651.0    809.0\n",
              "5  2020-02-09    40139.0          3030.0  ...   2068.0    588.0   2651.0\n",
              "6  2020-02-10    42751.0          2612.0  ...   1691.0   2068.0    588.0\n",
              "7  2020-02-11    44790.0          2039.0  ...   2110.0   1691.0   2068.0\n",
              "8  2020-02-12    45209.0           419.0  ...   4749.0   2110.0   1691.0\n",
              "9  2020-02-13    60355.0         15146.0  ...   3091.0   4749.0   2110.0\n",
              "10 2020-02-14    66872.0          6517.0  ...   4011.0   3091.0   4749.0\n",
              "11 2020-02-15    69017.0          2145.0  ...   3743.0   4011.0   3091.0\n",
              "12 2020-02-16    71211.0          2194.0  ...   3182.0   3743.0   4011.0\n",
              "13 2020-02-17    73245.0          2034.0  ...   3574.0   3182.0   3743.0\n",
              "14 2020-02-18    75123.0          1878.0  ...   2729.0   3574.0   3182.0\n",
              "15 2020-02-19    75626.0           503.0  ...   3030.0   2729.0   3574.0\n",
              "16 2020-02-20    76184.0           558.0  ...   2612.0   3030.0   2729.0\n",
              "17 2020-02-21    76808.0           624.0  ...   2039.0   2612.0   3030.0\n",
              "18 2020-02-22    78564.0          1756.0  ...    419.0   2039.0   2612.0\n",
              "19 2020-02-23    78950.0           386.0  ...  15146.0    419.0   2039.0\n",
              "20 2020-02-24    79553.0           603.0  ...   6517.0  15146.0    419.0\n",
              "21 2020-02-25    80398.0           845.0  ...   2145.0   6517.0  15146.0\n",
              "22 2020-02-26    81380.0           982.0  ...   2194.0   2145.0   6517.0\n",
              "23 2020-02-27    82738.0          1358.0  ...   2034.0   2194.0   2145.0\n",
              "24 2020-02-28    84104.0          1366.0  ...   1878.0   2034.0   2194.0\n",
              "25 2020-02-29    85987.0          1883.0  ...    503.0   1878.0   2034.0\n",
              "26 2020-03-01    88339.0          2352.0  ...    558.0    503.0   1878.0\n",
              "27 2020-03-02    90253.0          1914.0  ...    624.0    558.0    503.0\n",
              "28 2020-03-03    92767.0          2514.0  ...   1756.0    624.0    558.0\n",
              "29 2020-03-04    95016.0          2249.0  ...    386.0   1756.0    624.0\n",
              "30 2020-03-05    97710.0          2694.0  ...    603.0    386.0   1756.0\n",
              "31 2020-03-06   101567.0          3857.0  ...    845.0    603.0    386.0\n",
              "32 2020-03-07   105485.0          3918.0  ...    982.0    845.0    603.0\n",
              "33 2020-03-08   109343.0          3858.0  ...   1358.0    982.0    845.0\n",
              "34 2020-03-09   113044.0          3701.0  ...   1366.0   1358.0    982.0\n",
              "35 2020-03-10   118592.0          5548.0  ...   1883.0   1366.0   1358.0\n",
              "36 2020-03-11   125865.0          7273.0  ...   2352.0   1883.0   1366.0\n",
              "37 2020-03-12   128343.0          2478.0  ...   1914.0   2352.0   1883.0\n",
              "38 2020-03-13   145193.0         16850.0  ...   2514.0   1914.0   2352.0\n",
              "39 2020-03-14   156094.0         10901.0  ...   2249.0   2514.0   1914.0\n",
              "40 2020-03-15   167446.0         11352.0  ...   2694.0   2249.0   2514.0\n",
              "41 2020-03-16   181527.0         14081.0  ...   3857.0   2694.0   2249.0\n",
              "42 2020-03-17   197142.0         15615.0  ...   3918.0   3857.0   2694.0\n",
              "43 2020-03-18   214910.0         17768.0  ...   3858.0   3918.0   3857.0\n",
              "44 2020-03-19   242708.0         27798.0  ...   3701.0   3858.0   3918.0\n",
              "45 2020-03-20   272166.0         29458.0  ...   5548.0   3701.0   3858.0\n",
              "46 2020-03-21   304524.0         32358.0  ...   7273.0   5548.0   3701.0\n",
              "47 2020-03-22   335955.0         31431.0  ...   2478.0   7273.0   5548.0\n",
              "48 2020-03-23   336004.0            49.0  ...  16850.0   2478.0   7273.0\n",
              "\n",
              "[49 rows x 15 columns]"
            ]
          },
          "metadata": {
            "tags": []
          },
          "execution_count": 20
        }
      ]
    },
    {
      "cell_type": "code",
      "metadata": {
        "id": "zSjdky-LU5p4"
      },
      "source": [
        ""
      ],
      "execution_count": 20,
      "outputs": []
    },
    {
      "cell_type": "markdown",
      "metadata": {
        "id": "XqBCG__gbsuD"
      },
      "source": [
        "# ARIMA Modeling"
      ]
    },
    {
      "cell_type": "code",
      "metadata": {
        "id": "4A_PYwRVbzHL"
      },
      "source": [
        "def generate_arima_data(data):\n",
        "    dt_data = data.set_index('Date').drop('Confirmed', axis=1)\n",
        "    dt_data.dropna(axis=0)\n",
        "    \n",
        "    #dt_data.to_csv('../data/arima_df.csv')\n",
        "    \n",
        "    return dt_data"
      ],
      "execution_count": 21,
      "outputs": []
    },
    {
      "cell_type": "code",
      "metadata": {
        "id": "afHPd6B1bzEe",
        "outputId": "1e9c2abc-0ca2-47db-9c40-d3e1e357599d",
        "colab": {
          "base_uri": "https://localhost:8080/",
          "height": 450
        }
      },
      "source": [
        "datetime_df = generate_arima_data(stationary_df)\n",
        "datetime_df"
      ],
      "execution_count": 22,
      "outputs": [
        {
          "output_type": "execute_result",
          "data": {
            "text/html": [
              "<div>\n",
              "<style scoped>\n",
              "    .dataframe tbody tr th:only-of-type {\n",
              "        vertical-align: middle;\n",
              "    }\n",
              "\n",
              "    .dataframe tbody tr th {\n",
              "        vertical-align: top;\n",
              "    }\n",
              "\n",
              "    .dataframe thead th {\n",
              "        text-align: right;\n",
              "    }\n",
              "</style>\n",
              "<table border=\"1\" class=\"dataframe\">\n",
              "  <thead>\n",
              "    <tr style=\"text-align: right;\">\n",
              "      <th></th>\n",
              "      <th>Confirmed_diff</th>\n",
              "    </tr>\n",
              "    <tr>\n",
              "      <th>Date</th>\n",
              "      <th></th>\n",
              "    </tr>\n",
              "  </thead>\n",
              "  <tbody>\n",
              "    <tr>\n",
              "      <th>2020-01-23</th>\n",
              "      <td>98.0</td>\n",
              "    </tr>\n",
              "    <tr>\n",
              "      <th>2020-01-24</th>\n",
              "      <td>287.0</td>\n",
              "    </tr>\n",
              "    <tr>\n",
              "      <th>2020-01-25</th>\n",
              "      <td>493.0</td>\n",
              "    </tr>\n",
              "    <tr>\n",
              "      <th>2020-01-26</th>\n",
              "      <td>681.0</td>\n",
              "    </tr>\n",
              "    <tr>\n",
              "      <th>2020-01-27</th>\n",
              "      <td>809.0</td>\n",
              "    </tr>\n",
              "    <tr>\n",
              "      <th>...</th>\n",
              "      <td>...</td>\n",
              "    </tr>\n",
              "    <tr>\n",
              "      <th>2020-03-19</th>\n",
              "      <td>27798.0</td>\n",
              "    </tr>\n",
              "    <tr>\n",
              "      <th>2020-03-20</th>\n",
              "      <td>29458.0</td>\n",
              "    </tr>\n",
              "    <tr>\n",
              "      <th>2020-03-21</th>\n",
              "      <td>32358.0</td>\n",
              "    </tr>\n",
              "    <tr>\n",
              "      <th>2020-03-22</th>\n",
              "      <td>31431.0</td>\n",
              "    </tr>\n",
              "    <tr>\n",
              "      <th>2020-03-23</th>\n",
              "      <td>49.0</td>\n",
              "    </tr>\n",
              "  </tbody>\n",
              "</table>\n",
              "<p>61 rows × 1 columns</p>\n",
              "</div>"
            ],
            "text/plain": [
              "            Confirmed_diff\n",
              "Date                      \n",
              "2020-01-23            98.0\n",
              "2020-01-24           287.0\n",
              "2020-01-25           493.0\n",
              "2020-01-26           681.0\n",
              "2020-01-27           809.0\n",
              "...                    ...\n",
              "2020-03-19         27798.0\n",
              "2020-03-20         29458.0\n",
              "2020-03-21         32358.0\n",
              "2020-03-22         31431.0\n",
              "2020-03-23            49.0\n",
              "\n",
              "[61 rows x 1 columns]"
            ]
          },
          "metadata": {
            "tags": []
          },
          "execution_count": 22
        }
      ]
    },
    {
      "cell_type": "markdown",
      "metadata": {
        "id": "WF8-L8nZcqFo"
      },
      "source": [
        "# Train Test Split"
      ]
    },
    {
      "cell_type": "code",
      "metadata": {
        "id": "wRp_RMrXcKoP"
      },
      "source": [
        "def tts(data):\n",
        "    data = data.drop(['Date','Confirmed'],axis=1)\n",
        "    train, test = data[0:-12].values, data[-12:].values\n",
        "    \n",
        "    return train, test\n",
        "\n",
        "train, test = tts(model_df)\n"
      ],
      "execution_count": 23,
      "outputs": []
    },
    {
      "cell_type": "code",
      "metadata": {
        "id": "jF3pwFrWdK3z",
        "outputId": "897f60f6-af44-4908-892d-6c09f310ab91",
        "colab": {
          "base_uri": "https://localhost:8080/",
          "height": 34
        }
      },
      "source": [
        "train.shape"
      ],
      "execution_count": 24,
      "outputs": [
        {
          "output_type": "execute_result",
          "data": {
            "text/plain": [
              "(37, 13)"
            ]
          },
          "metadata": {
            "tags": []
          },
          "execution_count": 24
        }
      ]
    },
    {
      "cell_type": "code",
      "metadata": {
        "id": "YaE9wTnkfsBc",
        "outputId": "977ab9ce-57c0-4d43-cac9-e9cca402d614",
        "colab": {
          "base_uri": "https://localhost:8080/",
          "height": 34
        }
      },
      "source": [
        "test.shape"
      ],
      "execution_count": 25,
      "outputs": [
        {
          "output_type": "execute_result",
          "data": {
            "text/plain": [
              "(12, 13)"
            ]
          },
          "metadata": {
            "tags": []
          },
          "execution_count": 25
        }
      ]
    },
    {
      "cell_type": "code",
      "metadata": {
        "id": "5IMaRaJDgKGO"
      },
      "source": [
        "def scale_data(train_set, test_set):\n",
        "    #apply Min Max Scaler\n",
        "    scaler = MinMaxScaler(feature_range=(-1, 1))\n",
        "    scaler = scaler.fit(train_set)\n",
        "    \n",
        "    # reshape training set\n",
        "    train_set = train_set.reshape(train_set.shape[0], train_set.shape[1])\n",
        "    train_set_scaled = scaler.transform(train_set)\n",
        "    \n",
        "    # reshape test set\n",
        "    test_set = test_set.reshape(test_set.shape[0], test_set.shape[1])\n",
        "    test_set_scaled = scaler.transform(test_set)\n",
        "    \n",
        "    X_train, y_train = train_set_scaled[:, 1:], train_set_scaled[:, 0:1].ravel()\n",
        "    X_test, y_test = test_set_scaled[:, 1:], test_set_scaled[:, 0:1].ravel()\n",
        "    \n",
        "    return X_train, y_train, X_test, y_test, scaler\n",
        "\n",
        "X_train, y_train, X_test, y_test, scaler_object = scale_data(train, test)"
      ],
      "execution_count": 26,
      "outputs": []
    },
    {
      "cell_type": "code",
      "metadata": {
        "id": "SJ7ckSAAgKTu",
        "outputId": "907a643d-97eb-4118-ec5b-97d296aac89b",
        "colab": {
          "base_uri": "https://localhost:8080/",
          "height": 34
        }
      },
      "source": [
        "y_train.shape"
      ],
      "execution_count": 27,
      "outputs": [
        {
          "output_type": "execute_result",
          "data": {
            "text/plain": [
              "(37,)"
            ]
          },
          "metadata": {
            "tags": []
          },
          "execution_count": 27
        }
      ]
    },
    {
      "cell_type": "markdown",
      "metadata": {
        "id": "ZhNlByJbgW_O"
      },
      "source": [
        "# Modeling Functions"
      ]
    },
    {
      "cell_type": "code",
      "metadata": {
        "id": "YEKWKplhgbKO"
      },
      "source": [
        "def undo_scaling(y_pred, x_test, scaler_obj, lstm=False):  \n",
        "    #reshape y_pred\n",
        "    y_pred = y_pred.reshape(y_pred.shape[0], 1, 1)\n",
        "    \n",
        "    if not lstm:\n",
        "        x_test = x_test.reshape(x_test.shape[0], 1, x_test.shape[1])\n",
        "    \n",
        "    #rebuild test set for inverse transform\n",
        "    pred_test_set = []\n",
        "    for index in range(0,len(y_pred)):\n",
        "        pred_test_set.append(np.concatenate([y_pred[index],x_test[index]],axis=1))\n",
        "        \n",
        "    #reshape pred_test_set\n",
        "    pred_test_set = np.array(pred_test_set)\n",
        "    pred_test_set = pred_test_set.reshape(pred_test_set.shape[0], pred_test_set.shape[2])\n",
        "    \n",
        "    #inverse transform\n",
        "    pred_test_set_inverted = scaler_obj.inverse_transform(pred_test_set)\n",
        "    \n",
        "    return pred_test_set_inverted"
      ],
      "execution_count": 28,
      "outputs": []
    },
    {
      "cell_type": "code",
      "metadata": {
        "id": "bHGeoP-GsD1O"
      },
      "source": [
        "def load_original_df():\n",
        "    #load in original dataframe without scaling applied\n",
        "    original_df = confirmed\n",
        "    original_df.Date = original_df.Date.apply(lambda x: str(x)[:-3])\n",
        "    original_df = original_df.groupby('Date')['Confirmed'].sum().reset_index()\n",
        "    original_df.Date = pd.to_datetime(original_df.Date)\n",
        "    #df['Timestamp'] = pd.to_datetime(df['Year'],format='%Y') \n",
        "    return original_df"
      ],
      "execution_count": 29,
      "outputs": []
    },
    {
      "cell_type": "code",
      "metadata": {
        "id": "xTxtOACY3pyW"
      },
      "source": [
        "def predict_df(unscaled_predictions, original_df):\n",
        "    #create dataframe that shows the predicted cases\n",
        "    result_list = []\n",
        "    cases_dates = list(original_df[-14:].Date)\n",
        "    act_confirmed = list(original_df[-14:].Confirmed)\n",
        "\n",
        "    for index in range(0,len(unscaled_predictions)):\n",
        "        result_dict = {}\n",
        "        result_dict['pred_value'] = int(unscaled_predictions[index][0] + act_confirmed[index])\n",
        "        result_dict['Date'] = cases_dates[index+1]\n",
        "        result_list.append(result_dict)\n",
        "        \n",
        "    df_result = pd.DataFrame(result_list)\n",
        "        \n",
        "    return df_result"
      ],
      "execution_count": 30,
      "outputs": []
    },
    {
      "cell_type": "code",
      "metadata": {
        "id": "tlSEpayRhJqM"
      },
      "source": [
        "model_scores = {}\n",
        "\n",
        "def get_scores(unscaled_df, original_df, model_name):\n",
        "    rmse = np.sqrt(mean_squared_error(original_df.Confirmed[-12:], unscaled_df.pred_value[-12:]))\n",
        "    mae = mean_absolute_error(original_df.Confirmed[-12:], unscaled_df.pred_value[-12:])\n",
        "    r2 = r2_score(original_df.Confirmed[-12:], unscaled_df.pred_value[-12:])\n",
        "    model_scores[model_name] = [rmse, mae, r2]\n",
        "\n",
        "    print(f\"RMSE: {rmse}\")\n",
        "    print(f\"MAE: {mae}\")\n",
        "    print(f\"R2 Score: {r2}\")"
      ],
      "execution_count": 31,
      "outputs": []
    },
    {
      "cell_type": "code",
      "metadata": {
        "id": "_rT6ZwHqhJ7d"
      },
      "source": [
        "def plot_results(results, original_df, model_name):\n",
        "\n",
        "    fig, ax = plt.subplots(figsize=(15,5))\n",
        "    sns.lineplot(original_df.Date, original_df.Confirmed, data=original_df, ax=ax,label='Original', color='mediumblue')\n",
        "    sns.lineplot(results.Date, results.pred_value, data=results, ax=ax,label='Predicted', color='Red')\n",
        "    \n",
        "    ax.set(xlabel = \"Date\",\n",
        "           ylabel = \"Confirmed\",\n",
        "           title = f\"{model_name} corona Forecasting Prediction\")\n",
        "    \n",
        "    ax.legend()\n",
        "    \n",
        "    sns.despine()\n",
        "    \n",
        "#plt.savefig(f'../model_output/{model_name}_forecast.png')"
      ],
      "execution_count": 32,
      "outputs": []
    },
    {
      "cell_type": "code",
      "metadata": {
        "id": "ZkZPEGl2hJ5S"
      },
      "source": [
        "def run_model(train_data, test_data, model, model_name):\n",
        "    \n",
        "    X_train, y_train, X_test, y_test, scaler_object = scale_data(train_data, test_data)\n",
        "    \n",
        "    mod = model\n",
        "    mod.fit(X_train, y_train)\n",
        "    predictions = mod.predict(X_test)\n",
        "    \n",
        "    # Undo scaling to compare predictions against original data\n",
        "    original_df = load_original_df()\n",
        "    unscaled = undo_scaling(predictions, X_test, scaler_object)\n",
        "    unscaled_df = predict_df(unscaled, original_df)\n",
        "      \n",
        "    get_scores(unscaled_df, original_df, model_name)\n",
        "    \n",
        "    plot_results(unscaled_df, original_df, model_name)"
      ],
      "execution_count": 33,
      "outputs": []
    },
    {
      "cell_type": "markdown",
      "metadata": {
        "id": "NvZT9U3RhnQa"
      },
      "source": [
        "# Linear Regression"
      ]
    },
    {
      "cell_type": "code",
      "metadata": {
        "id": "-SUTL4J9hJ28",
        "outputId": "658d89e3-9063-4d4c-f1d5-6760fd4a2bbe",
        "colab": {
          "base_uri": "https://localhost:8080/",
          "height": 489
        }
      },
      "source": [
        "run_model(train, test, LinearRegression(), 'LinearRegression')"
      ],
      "execution_count": 34,
      "outputs": [
        {
          "output_type": "stream",
          "text": [
            "RMSE: 30750.273678998914\n",
            "MAE: 27353.0\n",
            "R2 Score: 0.8109100329701195\n"
          ],
          "name": "stdout"
        },
        {
          "output_type": "stream",
          "text": [
            "/usr/local/lib/python3.6/dist-packages/seaborn/_decorators.py:43: FutureWarning: Pass the following variables as keyword args: x, y. From version 0.12, the only valid positional argument will be `data`, and passing other arguments without an explicit keyword will result in an error or misinterpretation.\n",
            "  FutureWarning\n",
            "/usr/local/lib/python3.6/dist-packages/seaborn/_decorators.py:43: FutureWarning: Pass the following variables as keyword args: x, y. From version 0.12, the only valid positional argument will be `data`, and passing other arguments without an explicit keyword will result in an error or misinterpretation.\n",
            "  FutureWarning\n"
          ],
          "name": "stderr"
        },
        {
          "output_type": "display_data",
          "data": {
            "image/png": "[encoded data removed]",
            "text/plain": [
              "<Figure size 1080x360 with 1 Axes>"
            ]
          },
          "metadata": {
            "tags": [],
            "needs_background": "light"
          }
        }
      ]
    },
    {
      "cell_type": "markdown",
      "metadata": {
        "id": "cA0JUVy4ffY7"
      },
      "source": [
        "# Random Forest Regressor"
      ]
    },
    {
      "cell_type": "code",
      "metadata": {
        "id": "hFThYBNLh5b_",
        "outputId": "804974b2-c370-4d9c-cccc-753f8bd6dd78",
        "colab": {
          "base_uri": "https://localhost:8080/",
          "height": 489
        }
      },
      "source": [
        "run_model(train, test, RandomForestRegressor(n_estimators=100, max_depth=20),'RandomForest')"
      ],
      "execution_count": 35,
      "outputs": [
        {
          "output_type": "stream",
          "text": [
            "RMSE: 33945.22584743447\n",
            "MAE: 29873.666666666668\n",
            "R2 Score: 0.7695758891168679\n"
          ],
          "name": "stdout"
        },
        {
          "output_type": "stream",
          "text": [
            "/usr/local/lib/python3.6/dist-packages/seaborn/_decorators.py:43: FutureWarning: Pass the following variables as keyword args: x, y. From version 0.12, the only valid positional argument will be `data`, and passing other arguments without an explicit keyword will result in an error or misinterpretation.\n",
            "  FutureWarning\n",
            "/usr/local/lib/python3.6/dist-packages/seaborn/_decorators.py:43: FutureWarning: Pass the following variables as keyword args: x, y. From version 0.12, the only valid positional argument will be `data`, and passing other arguments without an explicit keyword will result in an error or misinterpretation.\n",
            "  FutureWarning\n"
          ],
          "name": "stderr"
        },
        {
          "output_type": "display_data",
          "data": {
            "image/png": "[encoded data removed]",
            "text/plain": [
              "<Figure size 1080x360 with 1 Axes>"
            ]
          },
          "metadata": {
            "tags": [],
            "needs_background": "light"
          }
        }
      ]
    },
    {
      "cell_type": "markdown",
      "metadata": {
        "id": "BS84KZdygBe1"
      },
      "source": [
        "# XGBoost"
      ]
    },
    {
      "cell_type": "code",
      "metadata": {
        "id": "B-qz9qYlh5tK",
        "outputId": "5d5c6e02-7e24-4bfa-a25d-de4615ed5e9d",
        "colab": {
          "base_uri": "https://localhost:8080/",
          "height": 489
        }
      },
      "source": [
        "run_model(train, test, XGBRegressor( n_estimators=100, learning_rate=0.2, objective='reg:squarederror'), 'XGBoost')"
      ],
      "execution_count": 36,
      "outputs": [
        {
          "output_type": "stream",
          "text": [
            "RMSE: 34463.973145880904\n",
            "MAE: 30254.666666666668\n",
            "R2 Score: 0.7624794436680555\n"
          ],
          "name": "stdout"
        },
        {
          "output_type": "stream",
          "text": [
            "/usr/local/lib/python3.6/dist-packages/seaborn/_decorators.py:43: FutureWarning: Pass the following variables as keyword args: x, y. From version 0.12, the only valid positional argument will be `data`, and passing other arguments without an explicit keyword will result in an error or misinterpretation.\n",
            "  FutureWarning\n",
            "/usr/local/lib/python3.6/dist-packages/seaborn/_decorators.py:43: FutureWarning: Pass the following variables as keyword args: x, y. From version 0.12, the only valid positional argument will be `data`, and passing other arguments without an explicit keyword will result in an error or misinterpretation.\n",
            "  FutureWarning\n"
          ],
          "name": "stderr"
        },
        {
          "output_type": "display_data",
          "data": {
            "image/png": "[encoded data removed]",
            "text/plain": [
              "<Figure size 1080x360 with 1 Axes>"
            ]
          },
          "metadata": {
            "tags": [],
            "needs_background": "light"
          }
        }
      ]
    },
    {
      "cell_type": "markdown",
      "metadata": {
        "id": "yOS7HDj3gSav"
      },
      "source": [
        "# LSTM"
      ]
    },
    {
      "cell_type": "code",
      "metadata": {
        "id": "qIILJ1n5gMTW"
      },
      "source": [
        "def lstm_model(train_data, test_data):\n",
        "    \n",
        "    X_train, y_train, X_test, y_test, scaler_object = scale_data(train_data, test_data)\n",
        "    \n",
        "    X_train = X_train.reshape(X_train.shape[0], 1, X_train.shape[1])\n",
        "    X_test = X_test.reshape(X_test.shape[0], 1, X_test.shape[1])\n",
        "   \n",
        "    model = Sequential()\n",
        "    model.add(LSTM(4, batch_input_shape=(1, X_train.shape[1], X_train.shape[2]), \n",
        "                   stateful=True))\n",
        "    model.add(Dense(1))\n",
        "    model.add(Dense(1))\n",
        "    model.compile(loss='mean_squared_error', optimizer='adam')\n",
        "    model.fit(X_train, y_train, epochs=200, batch_size=1, verbose=1, \n",
        "              shuffle=False)\n",
        "    predictions = model.predict(X_test,batch_size=1)\n",
        "    \n",
        "    original_df = confirmed\n",
        "    unscaled = undo_scaling(predictions, X_test, scaler_object, lstm=True)\n",
        "    unscaled_df = predict_df(unscaled, original_df)\n",
        "    \n",
        "    get_scores(unscaled_df, original_df, 'LSTM')\n",
        "    \n",
        "    plot_results(unscaled_df, original_df, 'LSTM')"
      ],
      "execution_count": 37,
      "outputs": []
    },
    {
      "cell_type": "code",
      "metadata": {
        "id": "4LfXlYr-ggZL",
        "outputId": "71a5806e-d6c9-4e9b-d5b6-a1d6d00ab96b",
        "colab": {
          "base_uri": "https://localhost:8080/",
          "height": 1000
        }
      },
      "source": [
        "lstm_model(train, test)"
      ],
      "execution_count": 38,
      "outputs": [
        {
          "output_type": "stream",
          "text": [
            "Epoch 1/200\n",
            "37/37 [==============================] - 0s 1ms/step - loss: 0.4697\n",
            "Epoch 2/200\n",
            "37/37 [==============================] - 0s 1ms/step - loss: 0.3242\n",
            "Epoch 3/200\n",
            "37/37 [==============================] - 0s 2ms/step - loss: 0.2356\n",
            "Epoch 4/200\n",
            "37/37 [==============================] - 0s 2ms/step - loss: 0.1745\n",
            "Epoch 5/200\n",
            "37/37 [==============================] - 0s 2ms/step - loss: 0.1428\n",
            "Epoch 6/200\n",
            "37/37 [==============================] - 0s 2ms/step - loss: 0.1320\n",
            "Epoch 7/200\n",
            "37/37 [==============================] - 0s 2ms/step - loss: 0.1292\n",
            "Epoch 8/200\n",
            "37/37 [==============================] - 0s 2ms/step - loss: 0.1283\n",
            "Epoch 9/200\n",
            "37/37 [==============================] - 0s 1ms/step - loss: 0.1278\n",
            "Epoch 10/200\n",
            "37/37 [==============================] - 0s 1ms/step - loss: 0.1274\n",
            "Epoch 11/200\n",
            "37/37 [==============================] - 0s 1ms/step - loss: 0.1271\n",
            "Epoch 12/200\n",
            "37/37 [==============================] - 0s 1ms/step - loss: 0.1268\n",
            "Epoch 13/200\n",
            "37/37 [==============================] - 0s 1ms/step - loss: 0.1265\n",
            "Epoch 14/200\n",
            "37/37 [==============================] - 0s 1ms/step - loss: 0.1262\n",
            "Epoch 15/200\n",
            "37/37 [==============================] - 0s 1ms/step - loss: 0.1260\n",
            "Epoch 16/200\n",
            "37/37 [==============================] - 0s 2ms/step - loss: 0.1258\n",
            "Epoch 17/200\n",
            "37/37 [==============================] - 0s 1ms/step - loss: 0.1256\n",
            "Epoch 18/200\n",
            "37/37 [==============================] - 0s 1ms/step - loss: 0.1253\n",
            "Epoch 19/200\n",
            "37/37 [==============================] - 0s 1ms/step - loss: 0.1252\n",
            "Epoch 20/200\n",
            "37/37 [==============================] - 0s 1ms/step - loss: 0.1250\n",
            "Epoch 21/200\n",
            "37/37 [==============================] - 0s 1ms/step - loss: 0.1248\n",
            "Epoch 22/200\n",
            "37/37 [==============================] - 0s 1ms/step - loss: 0.1246\n",
            "Epoch 23/200\n",
            "37/37 [==============================] - 0s 2ms/step - loss: 0.1244\n",
            "Epoch 24/200\n",
            "37/37 [==============================] - 0s 1ms/step - loss: 0.1243\n",
            "Epoch 25/200\n",
            "37/37 [==============================] - 0s 2ms/step - loss: 0.1241\n",
            "Epoch 26/200\n",
            "37/37 [==============================] - 0s 2ms/step - loss: 0.1239\n",
            "Epoch 27/200\n",
            "37/37 [==============================] - 0s 1ms/step - loss: 0.1238\n",
            "Epoch 28/200\n",
            "37/37 [==============================] - 0s 1ms/step - loss: 0.1236\n",
            "Epoch 29/200\n",
            "37/37 [==============================] - 0s 1ms/step - loss: 0.1235\n",
            "Epoch 30/200\n",
            "37/37 [==============================] - 0s 1ms/step - loss: 0.1233\n",
            "Epoch 31/200\n",
            "37/37 [==============================] - 0s 1ms/step - loss: 0.1231\n",
            "Epoch 32/200\n",
            "37/37 [==============================] - 0s 1ms/step - loss: 0.1230\n",
            "Epoch 33/200\n",
            "37/37 [==============================] - 0s 1ms/step - loss: 0.1228\n",
            "Epoch 34/200\n",
            "37/37 [==============================] - 0s 1ms/step - loss: 0.1227\n",
            "Epoch 35/200\n",
            "37/37 [==============================] - 0s 1ms/step - loss: 0.1225\n",
            "Epoch 36/200\n",
            "37/37 [==============================] - 0s 1ms/step - loss: 0.1224\n",
            "Epoch 37/200\n",
            "37/37 [==============================] - 0s 2ms/step - loss: 0.1222\n",
            "Epoch 38/200\n",
            "37/37 [==============================] - 0s 1ms/step - loss: 0.1221\n",
            "Epoch 39/200\n",
            "37/37 [==============================] - 0s 2ms/step - loss: 0.1219\n",
            "Epoch 40/200\n",
            "37/37 [==============================] - 0s 1ms/step - loss: 0.1218\n",
            "Epoch 41/200\n",
            "37/37 [==============================] - 0s 1ms/step - loss: 0.1216\n",
            "Epoch 42/200\n",
            "37/37 [==============================] - 0s 1ms/step - loss: 0.1215\n",
            "Epoch 43/200\n",
            "37/37 [==============================] - 0s 1ms/step - loss: 0.1213\n",
            "Epoch 44/200\n",
            "37/37 [==============================] - 0s 1ms/step - loss: 0.1212\n",
            "Epoch 45/200\n",
            "37/37 [==============================] - 0s 1ms/step - loss: 0.1210\n",
            "Epoch 46/200\n",
            "37/37 [==============================] - 0s 1ms/step - loss: 0.1209\n",
            "Epoch 47/200\n",
            "37/37 [==============================] - 0s 1ms/step - loss: 0.1207\n",
            "Epoch 48/200\n",
            "37/37 [==============================] - 0s 1ms/step - loss: 0.1206\n",
            "Epoch 49/200\n",
            "37/37 [==============================] - 0s 1ms/step - loss: 0.1204\n",
            "Epoch 50/200\n",
            "37/37 [==============================] - 0s 1ms/step - loss: 0.1203\n",
            "Epoch 51/200\n",
            "37/37 [==============================] - 0s 1ms/step - loss: 0.1201\n",
            "Epoch 52/200\n",
            "37/37 [==============================] - 0s 1ms/step - loss: 0.1200\n",
            "Epoch 53/200\n",
            "37/37 [==============================] - 0s 1ms/step - loss: 0.1198\n",
            "Epoch 54/200\n",
            "37/37 [==============================] - 0s 1ms/step - loss: 0.1197\n",
            "Epoch 55/200\n",
            "37/37 [==============================] - 0s 1ms/step - loss: 0.1195\n",
            "Epoch 56/200\n",
            "37/37 [==============================] - 0s 1ms/step - loss: 0.1193\n",
            "Epoch 57/200\n",
            "37/37 [==============================] - 0s 2ms/step - loss: 0.1192\n",
            "Epoch 58/200\n",
            "37/37 [==============================] - 0s 1ms/step - loss: 0.1190\n",
            "Epoch 59/200\n",
            "37/37 [==============================] - 0s 1ms/step - loss: 0.1189\n",
            "Epoch 60/200\n",
            "37/37 [==============================] - 0s 1ms/step - loss: 0.1187\n",
            "Epoch 61/200\n",
            "37/37 [==============================] - 0s 1ms/step - loss: 0.1185\n",
            "Epoch 62/200\n",
            "37/37 [==============================] - 0s 1ms/step - loss: 0.1184\n",
            "Epoch 63/200\n",
            "37/37 [==============================] - 0s 1ms/step - loss: 0.1182\n",
            "Epoch 64/200\n",
            "37/37 [==============================] - 0s 1ms/step - loss: 0.1180\n",
            "Epoch 65/200\n",
            "37/37 [==============================] - 0s 1ms/step - loss: 0.1178\n",
            "Epoch 66/200\n",
            "37/37 [==============================] - 0s 1ms/step - loss: 0.1176\n",
            "Epoch 67/200\n",
            "37/37 [==============================] - 0s 1ms/step - loss: 0.1175\n",
            "Epoch 68/200\n",
            "37/37 [==============================] - 0s 1ms/step - loss: 0.1173\n",
            "Epoch 69/200\n",
            "37/37 [==============================] - 0s 1ms/step - loss: 0.1171\n",
            "Epoch 70/200\n",
            "37/37 [==============================] - 0s 1ms/step - loss: 0.1169\n",
            "Epoch 71/200\n",
            "37/37 [==============================] - 0s 1ms/step - loss: 0.1167\n",
            "Epoch 72/200\n",
            "37/37 [==============================] - 0s 1ms/step - loss: 0.1165\n",
            "Epoch 73/200\n",
            "37/37 [==============================] - 0s 1ms/step - loss: 0.1163\n",
            "Epoch 74/200\n",
            "37/37 [==============================] - 0s 1ms/step - loss: 0.1161\n",
            "Epoch 75/200\n",
            "37/37 [==============================] - 0s 1ms/step - loss: 0.1160\n",
            "Epoch 76/200\n",
            "37/37 [==============================] - 0s 1ms/step - loss: 0.1158\n",
            "Epoch 77/200\n",
            "37/37 [==============================] - 0s 1ms/step - loss: 0.1156\n",
            "Epoch 78/200\n",
            "37/37 [==============================] - 0s 1ms/step - loss: 0.1154\n",
            "Epoch 79/200\n",
            "37/37 [==============================] - 0s 1ms/step - loss: 0.1152\n",
            "Epoch 80/200\n",
            "37/37 [==============================] - 0s 1ms/step - loss: 0.1150\n",
            "Epoch 81/200\n",
            "37/37 [==============================] - 0s 1ms/step - loss: 0.1148\n",
            "Epoch 82/200\n",
            "37/37 [==============================] - 0s 2ms/step - loss: 0.1146\n",
            "Epoch 83/200\n",
            "37/37 [==============================] - 0s 1ms/step - loss: 0.1144\n",
            "Epoch 84/200\n",
            "37/37 [==============================] - 0s 1ms/step - loss: 0.1142\n",
            "Epoch 85/200\n",
            "37/37 [==============================] - 0s 1ms/step - loss: 0.1141\n",
            "Epoch 86/200\n",
            "37/37 [==============================] - 0s 1ms/step - loss: 0.1139\n",
            "Epoch 87/200\n",
            "37/37 [==============================] - 0s 1ms/step - loss: 0.1137\n",
            "Epoch 88/200\n",
            "37/37 [==============================] - 0s 1ms/step - loss: 0.1135\n",
            "Epoch 89/200\n",
            "37/37 [==============================] - 0s 1ms/step - loss: 0.1133\n",
            "Epoch 90/200\n",
            "37/37 [==============================] - 0s 2ms/step - loss: 0.1132\n",
            "Epoch 91/200\n",
            "37/37 [==============================] - 0s 1ms/step - loss: 0.1130\n",
            "Epoch 92/200\n",
            "37/37 [==============================] - 0s 1ms/step - loss: 0.1128\n",
            "Epoch 93/200\n",
            "37/37 [==============================] - 0s 1ms/step - loss: 0.1126\n",
            "Epoch 94/200\n",
            "37/37 [==============================] - 0s 1ms/step - loss: 0.1125\n",
            "Epoch 95/200\n",
            "37/37 [==============================] - 0s 1ms/step - loss: 0.1123\n",
            "Epoch 96/200\n",
            "37/37 [==============================] - 0s 1ms/step - loss: 0.1121\n",
            "Epoch 97/200\n",
            "37/37 [==============================] - 0s 2ms/step - loss: 0.1119\n",
            "Epoch 98/200\n",
            "37/37 [==============================] - 0s 1ms/step - loss: 0.1118\n",
            "Epoch 99/200\n",
            "37/37 [==============================] - 0s 1ms/step - loss: 0.1116\n",
            "Epoch 100/200\n",
            "37/37 [==============================] - 0s 1ms/step - loss: 0.1114\n",
            "Epoch 101/200\n",
            "37/37 [==============================] - 0s 1ms/step - loss: 0.1113\n",
            "Epoch 102/200\n",
            "37/37 [==============================] - 0s 1ms/step - loss: 0.1111\n",
            "Epoch 103/200\n",
            "37/37 [==============================] - 0s 1ms/step - loss: 0.1109\n",
            "Epoch 104/200\n",
            "37/37 [==============================] - 0s 2ms/step - loss: 0.1108\n",
            "Epoch 105/200\n",
            "37/37 [==============================] - 0s 1ms/step - loss: 0.1106\n",
            "Epoch 106/200\n",
            "37/37 [==============================] - 0s 1ms/step - loss: 0.1105\n",
            "Epoch 107/200\n",
            "37/37 [==============================] - 0s 1ms/step - loss: 0.1103\n",
            "Epoch 108/200\n",
            "37/37 [==============================] - 0s 1ms/step - loss: 0.1101\n",
            "Epoch 109/200\n",
            "37/37 [==============================] - 0s 1ms/step - loss: 0.1100\n",
            "Epoch 110/200\n",
            "37/37 [==============================] - 0s 1ms/step - loss: 0.1098\n",
            "Epoch 111/200\n",
            "37/37 [==============================] - 0s 2ms/step - loss: 0.1097\n",
            "Epoch 112/200\n",
            "37/37 [==============================] - 0s 1ms/step - loss: 0.1095\n",
            "Epoch 113/200\n",
            "37/37 [==============================] - 0s 2ms/step - loss: 0.1093\n",
            "Epoch 114/200\n",
            "37/37 [==============================] - 0s 1ms/step - loss: 0.1092\n",
            "Epoch 115/200\n",
            "37/37 [==============================] - 0s 1ms/step - loss: 0.1090\n",
            "Epoch 116/200\n",
            "37/37 [==============================] - 0s 1ms/step - loss: 0.1089\n",
            "Epoch 117/200\n",
            "37/37 [==============================] - 0s 1ms/step - loss: 0.1087\n",
            "Epoch 118/200\n",
            "37/37 [==============================] - 0s 1ms/step - loss: 0.1086\n",
            "Epoch 119/200\n",
            "37/37 [==============================] - 0s 1ms/step - loss: 0.1084\n",
            "Epoch 120/200\n",
            "37/37 [==============================] - 0s 1ms/step - loss: 0.1083\n",
            "Epoch 121/200\n",
            "37/37 [==============================] - 0s 1ms/step - loss: 0.1081\n",
            "Epoch 122/200\n",
            "37/37 [==============================] - 0s 1ms/step - loss: 0.1080\n",
            "Epoch 123/200\n",
            "37/37 [==============================] - 0s 1ms/step - loss: 0.1078\n",
            "Epoch 124/200\n",
            "37/37 [==============================] - 0s 1ms/step - loss: 0.1077\n",
            "Epoch 125/200\n",
            "37/37 [==============================] - 0s 1ms/step - loss: 0.1075\n",
            "Epoch 126/200\n",
            "37/37 [==============================] - 0s 1ms/step - loss: 0.1074\n",
            "Epoch 127/200\n",
            "37/37 [==============================] - 0s 1ms/step - loss: 0.1072\n",
            "Epoch 128/200\n",
            "37/37 [==============================] - 0s 1ms/step - loss: 0.1071\n",
            "Epoch 129/200\n",
            "37/37 [==============================] - 0s 1ms/step - loss: 0.1070\n",
            "Epoch 130/200\n",
            "37/37 [==============================] - 0s 1ms/step - loss: 0.1068\n",
            "Epoch 131/200\n",
            "37/37 [==============================] - 0s 1ms/step - loss: 0.1067\n",
            "Epoch 132/200\n",
            "37/37 [==============================] - 0s 1ms/step - loss: 0.1065\n",
            "Epoch 133/200\n",
            "37/37 [==============================] - 0s 1ms/step - loss: 0.1064\n",
            "Epoch 134/200\n",
            "37/37 [==============================] - 0s 1ms/step - loss: 0.1063\n",
            "Epoch 135/200\n",
            "37/37 [==============================] - 0s 1ms/step - loss: 0.1061\n",
            "Epoch 136/200\n",
            "37/37 [==============================] - 0s 1ms/step - loss: 0.1060\n",
            "Epoch 137/200\n",
            "37/37 [==============================] - 0s 1ms/step - loss: 0.1059\n",
            "Epoch 138/200\n",
            "37/37 [==============================] - 0s 1ms/step - loss: 0.1057\n",
            "Epoch 139/200\n",
            "37/37 [==============================] - 0s 1ms/step - loss: 0.1056\n",
            "Epoch 140/200\n",
            "37/37 [==============================] - 0s 1ms/step - loss: 0.1055\n",
            "Epoch 141/200\n",
            "37/37 [==============================] - 0s 1ms/step - loss: 0.1054\n",
            "Epoch 142/200\n",
            "37/37 [==============================] - 0s 1ms/step - loss: 0.1052\n",
            "Epoch 143/200\n",
            "37/37 [==============================] - 0s 1ms/step - loss: 0.1051\n",
            "Epoch 144/200\n",
            "37/37 [==============================] - 0s 1ms/step - loss: 0.1050\n",
            "Epoch 145/200\n",
            "37/37 [==============================] - 0s 1ms/step - loss: 0.1049\n",
            "Epoch 146/200\n",
            "37/37 [==============================] - 0s 1ms/step - loss: 0.1047\n",
            "Epoch 147/200\n",
            "37/37 [==============================] - 0s 1ms/step - loss: 0.1046\n",
            "Epoch 148/200\n",
            "37/37 [==============================] - 0s 1ms/step - loss: 0.1045\n",
            "Epoch 149/200\n",
            "37/37 [==============================] - 0s 2ms/step - loss: 0.1044\n",
            "Epoch 150/200\n",
            "37/37 [==============================] - 0s 1ms/step - loss: 0.1043\n",
            "Epoch 151/200\n",
            "37/37 [==============================] - 0s 2ms/step - loss: 0.1042\n",
            "Epoch 152/200\n",
            "37/37 [==============================] - 0s 1ms/step - loss: 0.1041\n",
            "Epoch 153/200\n",
            "37/37 [==============================] - 0s 1ms/step - loss: 0.1040\n",
            "Epoch 154/200\n",
            "37/37 [==============================] - 0s 2ms/step - loss: 0.1038\n",
            "Epoch 155/200\n",
            "37/37 [==============================] - 0s 1ms/step - loss: 0.1037\n",
            "Epoch 156/200\n",
            "37/37 [==============================] - 0s 1ms/step - loss: 0.1036\n",
            "Epoch 157/200\n",
            "37/37 [==============================] - 0s 1ms/step - loss: 0.1035\n",
            "Epoch 158/200\n",
            "37/37 [==============================] - 0s 1ms/step - loss: 0.1034\n",
            "Epoch 159/200\n",
            "37/37 [==============================] - 0s 1ms/step - loss: 0.1033\n",
            "Epoch 160/200\n",
            "37/37 [==============================] - 0s 1ms/step - loss: 0.1032\n",
            "Epoch 161/200\n",
            "37/37 [==============================] - 0s 1ms/step - loss: 0.1031\n",
            "Epoch 162/200\n",
            "37/37 [==============================] - 0s 1ms/step - loss: 0.1030\n",
            "Epoch 163/200\n",
            "37/37 [==============================] - 0s 1ms/step - loss: 0.1029\n",
            "Epoch 164/200\n",
            "37/37 [==============================] - 0s 1ms/step - loss: 0.1028\n",
            "Epoch 165/200\n",
            "37/37 [==============================] - 0s 1ms/step - loss: 0.1027\n",
            "Epoch 166/200\n",
            "37/37 [==============================] - 0s 1ms/step - loss: 0.1026\n",
            "Epoch 167/200\n",
            "37/37 [==============================] - 0s 1ms/step - loss: 0.1025\n",
            "Epoch 168/200\n",
            "37/37 [==============================] - 0s 1ms/step - loss: 0.1024\n",
            "Epoch 169/200\n",
            "37/37 [==============================] - 0s 2ms/step - loss: 0.1023\n",
            "Epoch 170/200\n",
            "37/37 [==============================] - 0s 1ms/step - loss: 0.1022\n",
            "Epoch 171/200\n",
            "37/37 [==============================] - 0s 1ms/step - loss: 0.1021\n",
            "Epoch 172/200\n",
            "37/37 [==============================] - 0s 2ms/step - loss: 0.1020\n",
            "Epoch 173/200\n",
            "37/37 [==============================] - 0s 2ms/step - loss: 0.1019\n",
            "Epoch 174/200\n",
            "37/37 [==============================] - 0s 1ms/step - loss: 0.1018\n",
            "Epoch 175/200\n",
            "37/37 [==============================] - 0s 1ms/step - loss: 0.1017\n",
            "Epoch 176/200\n",
            "37/37 [==============================] - 0s 1ms/step - loss: 0.1016\n",
            "Epoch 177/200\n",
            "37/37 [==============================] - 0s 1ms/step - loss: 0.1015\n",
            "Epoch 178/200\n",
            "37/37 [==============================] - 0s 1ms/step - loss: 0.1014\n",
            "Epoch 179/200\n",
            "37/37 [==============================] - 0s 2ms/step - loss: 0.1013\n",
            "Epoch 180/200\n",
            "37/37 [==============================] - 0s 1ms/step - loss: 0.1012\n",
            "Epoch 181/200\n",
            "37/37 [==============================] - 0s 1ms/step - loss: 0.1011\n",
            "Epoch 182/200\n",
            "37/37 [==============================] - 0s 1ms/step - loss: 0.1010\n",
            "Epoch 183/200\n",
            "37/37 [==============================] - 0s 1ms/step - loss: 0.1008\n",
            "Epoch 184/200\n",
            "37/37 [==============================] - 0s 1ms/step - loss: 0.1007\n",
            "Epoch 185/200\n",
            "37/37 [==============================] - 0s 1ms/step - loss: 0.1006\n",
            "Epoch 186/200\n",
            "37/37 [==============================] - 0s 1ms/step - loss: 0.1005\n",
            "Epoch 187/200\n",
            "37/37 [==============================] - 0s 1ms/step - loss: 0.1004\n",
            "Epoch 188/200\n",
            "37/37 [==============================] - 0s 1ms/step - loss: 0.1002\n",
            "Epoch 189/200\n",
            "37/37 [==============================] - 0s 1ms/step - loss: 0.1001\n",
            "Epoch 190/200\n",
            "37/37 [==============================] - 0s 1ms/step - loss: 0.0999\n",
            "Epoch 191/200\n",
            "37/37 [==============================] - 0s 2ms/step - loss: 0.0998\n",
            "Epoch 192/200\n",
            "37/37 [==============================] - 0s 1ms/step - loss: 0.0996\n",
            "Epoch 193/200\n",
            "37/37 [==============================] - 0s 1ms/step - loss: 0.0995\n",
            "Epoch 194/200\n",
            "37/37 [==============================] - 0s 1ms/step - loss: 0.0993\n",
            "Epoch 195/200\n",
            "37/37 [==============================] - 0s 1ms/step - loss: 0.0992\n",
            "Epoch 196/200\n",
            "37/37 [==============================] - 0s 2ms/step - loss: 0.0990\n",
            "Epoch 197/200\n",
            "37/37 [==============================] - 0s 1ms/step - loss: 0.0988\n",
            "Epoch 198/200\n",
            "37/37 [==============================] - 0s 1ms/step - loss: 0.0986\n",
            "Epoch 199/200\n",
            "37/37 [==============================] - 0s 1ms/step - loss: 0.0984\n",
            "Epoch 200/200\n",
            "37/37 [==============================] - 0s 2ms/step - loss: 0.0982\n",
            "RMSE: 34294.60270946436\n",
            "MAE: 30335.5\n",
            "R2 Score: 0.7648082586953846\n"
          ],
          "name": "stdout"
        },
        {
          "output_type": "stream",
          "text": [
            "/usr/local/lib/python3.6/dist-packages/seaborn/_decorators.py:43: FutureWarning: Pass the following variables as keyword args: x, y. From version 0.12, the only valid positional argument will be `data`, and passing other arguments without an explicit keyword will result in an error or misinterpretation.\n",
            "  FutureWarning\n",
            "/usr/local/lib/python3.6/dist-packages/seaborn/_decorators.py:43: FutureWarning: Pass the following variables as keyword args: x, y. From version 0.12, the only valid positional argument will be `data`, and passing other arguments without an explicit keyword will result in an error or misinterpretation.\n",
            "  FutureWarning\n"
          ],
          "name": "stderr"
        },
        {
          "output_type": "display_data",
          "data": {
            "image/png": "[encoded data removed]",
            "text/plain": [
              "<Figure size 1080x360 with 1 Axes>"
            ]
          },
          "metadata": {
            "tags": [],
            "needs_background": "light"
          }
        }
      ]
    },
    {
      "cell_type": "code",
      "metadata": {
        "id": "UnyNsnsDh5o8"
      },
      "source": [
        "pickle.dump(model_scores, open( \"model_scores.p\", \"wb\" ) )"
      ],
      "execution_count": 39,
      "outputs": []
    },
    {
      "cell_type": "markdown",
      "metadata": {
        "id": "gY2hqO2GiEKm"
      },
      "source": [
        "# Create Results Dataframe"
      ]
    },
    {
      "cell_type": "code",
      "metadata": {
        "id": "_FTEQ-64h2-l"
      },
      "source": [
        "def create_results_df():\n",
        "    results_dict = pickle.load(open(\"model_scores.p\", \"rb\"))\n",
        "    \n",
        "    #results_dict.update(pickle.load(open(\"arima_model_scores.p\", \"rb\")))\n",
        "    \n",
        "    restults_df = pd.DataFrame.from_dict(results_dict, orient='index', \n",
        "                                        columns=['RMSE', 'MAE','R2'])\n",
        "    \n",
        "    restults_df = restults_df.sort_values(by='RMSE', ascending=False).reset_index()\n",
        "    \n",
        "    return restults_df"
      ],
      "execution_count": 40,
      "outputs": []
    },
    {
      "cell_type": "code",
      "metadata": {
        "id": "cSjRtWI4iK3V",
        "outputId": "e4f86175-ac55-416a-c8e8-955b2eaee3f4",
        "colab": {
          "base_uri": "https://localhost:8080/",
          "height": 173
        }
      },
      "source": [
        "results = create_results_df()\n",
        "results"
      ],
      "execution_count": 41,
      "outputs": [
        {
          "output_type": "execute_result",
          "data": {
            "text/html": [
              "<div>\n",
              "<style scoped>\n",
              "    .dataframe tbody tr th:only-of-type {\n",
              "        vertical-align: middle;\n",
              "    }\n",
              "\n",
              "    .dataframe tbody tr th {\n",
              "        vertical-align: top;\n",
              "    }\n",
              "\n",
              "    .dataframe thead th {\n",
              "        text-align: right;\n",
              "    }\n",
              "</style>\n",
              "<table border=\"1\" class=\"dataframe\">\n",
              "  <thead>\n",
              "    <tr style=\"text-align: right;\">\n",
              "      <th></th>\n",
              "      <th>index</th>\n",
              "      <th>RMSE</th>\n",
              "      <th>MAE</th>\n",
              "      <th>R2</th>\n",
              "    </tr>\n",
              "  </thead>\n",
              "  <tbody>\n",
              "    <tr>\n",
              "      <th>0</th>\n",
              "      <td>XGBoost</td>\n",
              "      <td>34463.973146</td>\n",
              "      <td>30254.666667</td>\n",
              "      <td>0.762479</td>\n",
              "    </tr>\n",
              "    <tr>\n",
              "      <th>1</th>\n",
              "      <td>LSTM</td>\n",
              "      <td>34294.602709</td>\n",
              "      <td>30335.500000</td>\n",
              "      <td>0.764808</td>\n",
              "    </tr>\n",
              "    <tr>\n",
              "      <th>2</th>\n",
              "      <td>RandomForest</td>\n",
              "      <td>33945.225847</td>\n",
              "      <td>29873.666667</td>\n",
              "      <td>0.769576</td>\n",
              "    </tr>\n",
              "    <tr>\n",
              "      <th>3</th>\n",
              "      <td>LinearRegression</td>\n",
              "      <td>30750.273679</td>\n",
              "      <td>27353.000000</td>\n",
              "      <td>0.810910</td>\n",
              "    </tr>\n",
              "  </tbody>\n",
              "</table>\n",
              "</div>"
            ],
            "text/plain": [
              "              index          RMSE           MAE        R2\n",
              "0           XGBoost  34463.973146  30254.666667  0.762479\n",
              "1              LSTM  34294.602709  30335.500000  0.764808\n",
              "2      RandomForest  33945.225847  29873.666667  0.769576\n",
              "3  LinearRegression  30750.273679  27353.000000  0.810910"
            ]
          },
          "metadata": {
            "tags": []
          },
          "execution_count": 41
        }
      ]
    },
    {
      "cell_type": "code",
      "metadata": {
        "id": "hB7cfvq-RIUO"
      },
      "source": [
        "results.to_csv('confirmed_Ind_index.csv')"
      ],
      "execution_count": 42,
      "outputs": []
    },
    {
      "cell_type": "markdown",
      "metadata": {
        "id": "avkqXEgTiVbG"
      },
      "source": [
        "# Plot Results"
      ]
    },
    {
      "cell_type": "code",
      "metadata": {
        "id": "Ji2Hi69tOJhi",
        "outputId": "cf28a92c-8241-49c0-a61b-ba84dc2da564",
        "colab": {
          "base_uri": "https://localhost:8080/",
          "height": 34
        }
      },
      "source": [
        "def plot_results(results_df):\n",
        "    fig, ax = plt.subplots(figsize=(12, 5))\n",
        "    sns.lineplot(np.arange(len(results_df)), 'RMSE', data=results_df, ax=ax, \n",
        "                 label='RMSE', color='mediumblue')\n",
        "    sns.lineplot(np.arange(len(results_df)), 'MAE', data=results_df, ax=ax, \n",
        "                 label='MAE', color='red')\n",
        "    sns.lineplot(np.arange(len(results_df)), 'R2', data=results_df, ax=ax, \n",
        "                 label='R2', color='Green')\n",
        "    \n",
        "    plt.xticks(np.arange(len(results_df)),rotation=45)\n",
        "    ax.set_xticklabels(results_df['index'])\n",
        "    ax.set(xlabel = \"Model\",\n",
        "           ylabel = \"Scores\",\n",
        "           title = \"Model Error Comparison\")\n",
        "    sns.despine()\n",
        "plt.savefig(f'/content/models_forecast.png')"
      ],
      "execution_count": 43,
      "outputs": [
        {
          "output_type": "display_data",
          "data": {
            "text/plain": [
              "<Figure size 432x288 with 0 Axes>"
            ]
          },
          "metadata": {
            "tags": []
          }
        }
      ]
    },
    {
      "cell_type": "code",
      "metadata": {
        "id": "dCx_0e_cihJu",
        "outputId": "7afb2c90-8dc9-4cd4-9ef6-721466e75538",
        "colab": {
          "base_uri": "https://localhost:8080/",
          "height": 529
        }
      },
      "source": [
        "plot_results(results)"
      ],
      "execution_count": 44,
      "outputs": [
        {
          "output_type": "stream",
          "text": [
            "/usr/local/lib/python3.6/dist-packages/seaborn/_decorators.py:43: FutureWarning: Pass the following variables as keyword args: x, y. From version 0.12, the only valid positional argument will be `data`, and passing other arguments without an explicit keyword will result in an error or misinterpretation.\n",
            "  FutureWarning\n",
            "/usr/local/lib/python3.6/dist-packages/seaborn/_decorators.py:43: FutureWarning: Pass the following variables as keyword args: x, y. From version 0.12, the only valid positional argument will be `data`, and passing other arguments without an explicit keyword will result in an error or misinterpretation.\n",
            "  FutureWarning\n",
            "/usr/local/lib/python3.6/dist-packages/seaborn/_decorators.py:43: FutureWarning: Pass the following variables as keyword args: x, y. From version 0.12, the only valid positional argument will be `data`, and passing other arguments without an explicit keyword will result in an error or misinterpretation.\n",
            "  FutureWarning\n"
          ],
          "name": "stderr"
        },
        {
          "output_type": "display_data",
          "data": {
            "image/png": "[encoded data removed]",
            "text/plain": [
              "<Figure size 864x360 with 1 Axes>"
            ]
          },
          "metadata": {
            "tags": [],
            "needs_background": "light"
          }
        }
      ]
    },
    {
      "cell_type": "code",
      "metadata": {
        "id": "gRVpbrJDik1A",
        "outputId": "5f2eaf5d-cbb6-48fd-f185-25eac0146f53",
        "colab": {
          "base_uri": "https://localhost:8080/",
          "height": 34
        }
      },
      "source": [
        "average_monthly_confirmed_cases= 89193.08064516129\n",
        "gboost = 34463.973146\n",
        "percentage_off = round(gboost/average_monthly_confirmed_cases*100, 2)\n",
        "\n",
        "print(f\"With XGBoost, prediction is within {percentage_off}% of the actual.\")"
      ],
      "execution_count": 45,
      "outputs": [
        {
          "output_type": "stream",
          "text": [
            "With XGBoost, prediction is within 38.64% of the actual.\n"
          ],
          "name": "stdout"
        }
      ]
    }
  ]
}